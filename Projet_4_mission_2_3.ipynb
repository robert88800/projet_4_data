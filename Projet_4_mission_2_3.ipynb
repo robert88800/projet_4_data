{
 "cells": [
  {
   "cell_type": "markdown",
   "metadata": {},
   "source": [
    "# Mission n°2\n",
    "Ensuite, vous réaliserez l’analyse des données. Une grande liberté vous est laissée sur ce plan, mais à vous de trouver les informations qui ont du sens pour mieux comprendre les ventes : \n",
    "\n",
    "Vous devrez y utiliser au moins :\n",
    "\n",
    "- des indicateurs de tendance centrale et de dispersion\n",
    "- une analyse de concentration, via une courbe de Lorenz et un indice de Gini\n",
    "- des représentations graphiques, dont au moins un histogramme, une représentation avec des \"boites à moustaches\", et une représentation de série temporelle (c’est à dire un graphique dont l’axe des abscisses représente des dates)\n",
    "- des analyses bivariées"
   ]
  },
  {
   "cell_type": "code",
   "execution_count": 1,
   "metadata": {},
   "outputs": [],
   "source": [
    "# import des librairies dont nous aurons besoin\n",
    "import pandas as pd\n",
    "import numpy as np\n",
    "import scipy.stats as st\n",
    "import statsmodels.api as sm\n",
    "from scipy.stats import chi2_contingency\n",
    "import seaborn as sns\n",
    "import matplotlib.pyplot as plt\n",
    "%matplotlib inline"
   ]
  },
  {
   "cell_type": "code",
   "execution_count": 2,
   "metadata": {
    "scrolled": false
   },
   "outputs": [
    {
     "data": {
      "text/html": [
       "<div>\n",
       "<style scoped>\n",
       "    .dataframe tbody tr th:only-of-type {\n",
       "        vertical-align: middle;\n",
       "    }\n",
       "\n",
       "    .dataframe tbody tr th {\n",
       "        vertical-align: top;\n",
       "    }\n",
       "\n",
       "    .dataframe thead th {\n",
       "        text-align: right;\n",
       "    }\n",
       "</style>\n",
       "<table border=\"1\" class=\"dataframe\">\n",
       "  <thead>\n",
       "    <tr style=\"text-align: right;\">\n",
       "      <th></th>\n",
       "      <th>id_prod</th>\n",
       "      <th>date</th>\n",
       "      <th>session_id</th>\n",
       "      <th>client_id</th>\n",
       "      <th>price</th>\n",
       "      <th>categ</th>\n",
       "      <th>sex</th>\n",
       "      <th>age</th>\n",
       "    </tr>\n",
       "  </thead>\n",
       "  <tbody>\n",
       "    <tr>\n",
       "      <th>0</th>\n",
       "      <td>0_1483</td>\n",
       "      <td>2021-04-10 18:37:28.723910</td>\n",
       "      <td>s_18746</td>\n",
       "      <td>c_4450</td>\n",
       "      <td>4.99</td>\n",
       "      <td>0</td>\n",
       "      <td>f</td>\n",
       "      <td>45</td>\n",
       "    </tr>\n",
       "    <tr>\n",
       "      <th>1</th>\n",
       "      <td>2_226</td>\n",
       "      <td>2022-02-03 01:55:53.276402</td>\n",
       "      <td>s_159142</td>\n",
       "      <td>c_277</td>\n",
       "      <td>65.75</td>\n",
       "      <td>2</td>\n",
       "      <td>f</td>\n",
       "      <td>22</td>\n",
       "    </tr>\n",
       "    <tr>\n",
       "      <th>2</th>\n",
       "      <td>1_374</td>\n",
       "      <td>2021-09-23 15:13:46.938559</td>\n",
       "      <td>s_94290</td>\n",
       "      <td>c_4270</td>\n",
       "      <td>10.71</td>\n",
       "      <td>1</td>\n",
       "      <td>f</td>\n",
       "      <td>43</td>\n",
       "    </tr>\n",
       "    <tr>\n",
       "      <th>3</th>\n",
       "      <td>0_2186</td>\n",
       "      <td>2021-10-17 03:27:18.783634</td>\n",
       "      <td>s_105936</td>\n",
       "      <td>c_4597</td>\n",
       "      <td>4.20</td>\n",
       "      <td>0</td>\n",
       "      <td>m</td>\n",
       "      <td>59</td>\n",
       "    </tr>\n",
       "    <tr>\n",
       "      <th>4</th>\n",
       "      <td>0_1351</td>\n",
       "      <td>2021-07-17 20:34:25.800563</td>\n",
       "      <td>s_63642</td>\n",
       "      <td>c_1242</td>\n",
       "      <td>8.99</td>\n",
       "      <td>0</td>\n",
       "      <td>f</td>\n",
       "      <td>42</td>\n",
       "    </tr>\n",
       "  </tbody>\n",
       "</table>\n",
       "</div>"
      ],
      "text/plain": [
       "  id_prod                        date session_id client_id  price  categ sex  \\\n",
       "0  0_1483  2021-04-10 18:37:28.723910    s_18746    c_4450   4.99      0   f   \n",
       "1   2_226  2022-02-03 01:55:53.276402   s_159142     c_277  65.75      2   f   \n",
       "2   1_374  2021-09-23 15:13:46.938559    s_94290    c_4270  10.71      1   f   \n",
       "3  0_2186  2021-10-17 03:27:18.783634   s_105936    c_4597   4.20      0   m   \n",
       "4  0_1351  2021-07-17 20:34:25.800563    s_63642    c_1242   8.99      0   f   \n",
       "\n",
       "   age  \n",
       "0   45  \n",
       "1   22  \n",
       "2   43  \n",
       "3   59  \n",
       "4   42  "
      ]
     },
     "execution_count": 2,
     "metadata": {},
     "output_type": "execute_result"
    }
   ],
   "source": [
    "# chargement de la table jointure\n",
    "jointure = pd.read_csv(\"jointure.csv\")\n",
    "jointure.head()"
   ]
  },
  {
   "cell_type": "code",
   "execution_count": 3,
   "metadata": {},
   "outputs": [
    {
     "data": {
      "text/html": [
       "<div>\n",
       "<style scoped>\n",
       "    .dataframe tbody tr th:only-of-type {\n",
       "        vertical-align: middle;\n",
       "    }\n",
       "\n",
       "    .dataframe tbody tr th {\n",
       "        vertical-align: top;\n",
       "    }\n",
       "\n",
       "    .dataframe thead th {\n",
       "        text-align: right;\n",
       "    }\n",
       "</style>\n",
       "<table border=\"1\" class=\"dataframe\">\n",
       "  <thead>\n",
       "    <tr style=\"text-align: right;\">\n",
       "      <th></th>\n",
       "      <th>session_id</th>\n",
       "      <th>date</th>\n",
       "      <th>id_prod</th>\n",
       "      <th>price</th>\n",
       "      <th>categ</th>\n",
       "      <th>client_id</th>\n",
       "      <th>sex</th>\n",
       "      <th>age</th>\n",
       "    </tr>\n",
       "  </thead>\n",
       "  <tbody>\n",
       "    <tr>\n",
       "      <th>0</th>\n",
       "      <td>s_18746</td>\n",
       "      <td>2021-04-10 18:37:28.723910</td>\n",
       "      <td>0_1483</td>\n",
       "      <td>4.99</td>\n",
       "      <td>0</td>\n",
       "      <td>c_4450</td>\n",
       "      <td>f</td>\n",
       "      <td>45</td>\n",
       "    </tr>\n",
       "    <tr>\n",
       "      <th>1</th>\n",
       "      <td>s_159142</td>\n",
       "      <td>2022-02-03 01:55:53.276402</td>\n",
       "      <td>2_226</td>\n",
       "      <td>65.75</td>\n",
       "      <td>2</td>\n",
       "      <td>c_277</td>\n",
       "      <td>f</td>\n",
       "      <td>22</td>\n",
       "    </tr>\n",
       "    <tr>\n",
       "      <th>2</th>\n",
       "      <td>s_94290</td>\n",
       "      <td>2021-09-23 15:13:46.938559</td>\n",
       "      <td>1_374</td>\n",
       "      <td>10.71</td>\n",
       "      <td>1</td>\n",
       "      <td>c_4270</td>\n",
       "      <td>f</td>\n",
       "      <td>43</td>\n",
       "    </tr>\n",
       "    <tr>\n",
       "      <th>3</th>\n",
       "      <td>s_105936</td>\n",
       "      <td>2021-10-17 03:27:18.783634</td>\n",
       "      <td>0_2186</td>\n",
       "      <td>4.20</td>\n",
       "      <td>0</td>\n",
       "      <td>c_4597</td>\n",
       "      <td>m</td>\n",
       "      <td>59</td>\n",
       "    </tr>\n",
       "    <tr>\n",
       "      <th>4</th>\n",
       "      <td>s_63642</td>\n",
       "      <td>2021-07-17 20:34:25.800563</td>\n",
       "      <td>0_1351</td>\n",
       "      <td>8.99</td>\n",
       "      <td>0</td>\n",
       "      <td>c_1242</td>\n",
       "      <td>f</td>\n",
       "      <td>42</td>\n",
       "    </tr>\n",
       "  </tbody>\n",
       "</table>\n",
       "</div>"
      ],
      "text/plain": [
       "  session_id                        date id_prod  price  categ client_id sex  \\\n",
       "0    s_18746  2021-04-10 18:37:28.723910  0_1483   4.99      0    c_4450   f   \n",
       "1   s_159142  2022-02-03 01:55:53.276402   2_226  65.75      2     c_277   f   \n",
       "2    s_94290  2021-09-23 15:13:46.938559   1_374  10.71      1    c_4270   f   \n",
       "3   s_105936  2021-10-17 03:27:18.783634  0_2186   4.20      0    c_4597   m   \n",
       "4    s_63642  2021-07-17 20:34:25.800563  0_1351   8.99      0    c_1242   f   \n",
       "\n",
       "   age  \n",
       "0   45  \n",
       "1   22  \n",
       "2   43  \n",
       "3   59  \n",
       "4   42  "
      ]
     },
     "execution_count": 3,
     "metadata": {},
     "output_type": "execute_result"
    }
   ],
   "source": [
    "# nous allons classer les variables dans un ordre plus cohérent\n",
    "jointure = jointure[['session_id','date','id_prod','price','categ','client_id','sex','age']]\n",
    "jointure.head()"
   ]
  },
  {
   "cell_type": "markdown",
   "metadata": {},
   "source": [
    "# Indicateurs de tendance centrale et de dispersion"
   ]
  },
  {
   "cell_type": "code",
   "execution_count": 4,
   "metadata": {},
   "outputs": [
    {
     "data": {
      "text/plain": [
       "count    336816.000000\n",
       "mean         17.213511\n",
       "std          17.852973\n",
       "min           0.620000\n",
       "25%           8.610000\n",
       "50%          13.900000\n",
       "75%          18.990000\n",
       "max         300.000000\n",
       "Name: price, dtype: float64"
      ]
     },
     "execution_count": 4,
     "metadata": {},
     "output_type": "execute_result"
    }
   ],
   "source": [
    "# calcul de la moyenne et de l'écart-type sur la variable 'price' de la table jointure\n",
    "jointure['price'].describe()"
   ]
  },
  {
   "cell_type": "code",
   "execution_count": 5,
   "metadata": {},
   "outputs": [
    {
     "data": {
      "text/plain": [
       "count    336816.000000\n",
       "mean         44.176604\n",
       "std          13.523923\n",
       "min          18.000000\n",
       "25%          35.000000\n",
       "50%          42.000000\n",
       "75%          51.000000\n",
       "max          93.000000\n",
       "Name: age, dtype: float64"
      ]
     },
     "execution_count": 5,
     "metadata": {},
     "output_type": "execute_result"
    }
   ],
   "source": [
    "# calcul de la moyenne et de l'écart-type sur la variable 'age' de la table jointure\n",
    "jointure['age'].describe()"
   ]
  },
  {
   "cell_type": "markdown",
   "metadata": {},
   "source": [
    "# Représentation avec un histogramme"
   ]
  },
  {
   "cell_type": "code",
   "execution_count": 6,
   "metadata": {},
   "outputs": [
    {
     "data": {
      "image/png": "[encoded data removed]",
      "text/plain": [
       "<Figure size 1152x648 with 1 Axes>"
      ]
     },
     "metadata": {},
     "output_type": "display_data"
    }
   ],
   "source": [
    "# représentation graphique de la variable 'price' à l'aide d'un histogramme\n",
    "jointure['price'].hist(figsize=(16,9), color='b')\n",
    "plt.xlabel(\"Prix en €\", fontsize=16)  \n",
    "plt.ylabel(\"Nb_articles_achetés\", fontsize=16)\n",
    "plt.suptitle(\"Histogramme de la variable 'price'\", fontsize=16)\n",
    "plt.savefig('histo_1')\n",
    "plt.show()"
   ]
  },
  {
   "cell_type": "markdown",
   "metadata": {},
   "source": [
    "# Analyse de concentration, via une courbe de Lorenz et un indice de Gini"
   ]
  },
  {
   "cell_type": "code",
   "execution_count": 7,
   "metadata": {},
   "outputs": [
    {
     "data": {
      "image/png": "[encoded data removed]",
      "text/plain": [
       "<Figure size 1152x648 with 1 Axes>"
      ]
     },
     "metadata": {},
     "output_type": "display_data"
    }
   ],
   "source": [
    "# nous allons afficher une courbe de Lorenz sur la variable 'price'\n",
    "price = jointure['price'].values\n",
    "lorenz = np.cumsum(np.sort(price)) / price.sum()\n",
    "lorenz = np.append([0],lorenz) # La courbe de Lorenz commence à 0\n",
    "\n",
    "# affichage du plot\n",
    "plt.figure(figsize=(16,9))\n",
    "plt.suptitle(\"Courbe de Lorenz de la variable 'price'\", fontsize=16)\n",
    "plt.plot(np.linspace(0,1,len(lorenz)),lorenz,drawstyle='steps-post', color='b')\n",
    "plt.savefig('lorenz_1')\n",
    "plt.show()"
   ]
  },
  {
   "cell_type": "code",
   "execution_count": 8,
   "metadata": {},
   "outputs": [],
   "source": [
    "# la répartition des prix entre les objets semble égalitaire"
   ]
  },
  {
   "cell_type": "code",
   "execution_count": 9,
   "metadata": {},
   "outputs": [
    {
     "data": {
      "text/plain": [
       "0.39210732826417016"
      ]
     },
     "execution_count": 9,
     "metadata": {},
     "output_type": "execute_result"
    }
   ],
   "source": [
    "# nous allons afficher l'indice de Gini sur la variable 'price'\n",
    "aire_ss_courbe = lorenz[:-1].sum()/len(lorenz) # aire sous la courbe de Lorenz. La dernière valeur ne participe pas à l'aire, d'où \"[:-1]\"\n",
    "S = 0.5 - aire_ss_courbe # aire entre la bissectrice et la courbe de Lorenz\n",
    "gini = 2*S\n",
    "gini"
   ]
  },
  {
   "cell_type": "code",
   "execution_count": 10,
   "metadata": {},
   "outputs": [],
   "source": [
    "# l'indice de Gini vient confirmer notre impression visuelle avec la courbe de Lorenz"
   ]
  },
  {
   "cell_type": "markdown",
   "metadata": {},
   "source": [
    "# Représentation avec des \"boîtes à moustaches\""
   ]
  },
  {
   "cell_type": "code",
   "execution_count": 11,
   "metadata": {
    "scrolled": true
   },
   "outputs": [
    {
     "data": {
      "image/png": "[encoded data removed]",
      "text/plain": [
       "<Figure size 1152x324 with 1 Axes>"
      ]
     },
     "metadata": {},
     "output_type": "display_data"
    }
   ],
   "source": [
    "# nous allons afficher le boxplot prenant en variables :\n",
    "# qualitative : 'sex'\n",
    "# quantitative : 'price'\n",
    "jointure.boxplot(column='price',by='sex',vert=False,figsize=(16,4.5))\n",
    "plt.xlabel(\"Prix en €\", fontsize=16)  \n",
    "plt.ylabel(\"Sex\", fontsize=16)\n",
    "plt.suptitle(\"Boxplots des variables 'sex' et 'price'\", fontsize=16)\n",
    "plt.savefig('boxplot_1')\n",
    "plt.show()"
   ]
  },
  {
   "cell_type": "code",
   "execution_count": 12,
   "metadata": {},
   "outputs": [],
   "source": [
    "# les deux distributions semblent proches"
   ]
  },
  {
   "cell_type": "code",
   "execution_count": 13,
   "metadata": {},
   "outputs": [
    {
     "data": {
      "image/png": "[encoded data removed]",
      "text/plain": [
       "<Figure size 1152x576 with 1 Axes>"
      ]
     },
     "metadata": {},
     "output_type": "display_data"
    }
   ],
   "source": [
    "# pour une meilleur comparaison, nous intégrons les 3 boxplots dans 1 seul graphique\n",
    "jointure.boxplot(column='price', by='categ', vert=False, figsize=(16,8))\n",
    "plt.xlabel(\"Price en €\", fontsize=16)  \n",
    "plt.ylabel(\"Categ\", fontsize=16)\n",
    "plt.suptitle(\"Boxplots des variables 'categ' et 'price'\", fontsize=16)\n",
    "plt.savefig('boxplot_2')\n",
    "plt.show()"
   ]
  },
  {
   "cell_type": "code",
   "execution_count": 14,
   "metadata": {},
   "outputs": [],
   "source": [
    "# nous pouvons affirmer, que le sexe des clients semble influer sur le categ des articles achetés"
   ]
  },
  {
   "cell_type": "markdown",
   "metadata": {},
   "source": [
    "# Représentation de série temporelle \n",
    "\n",
    "c’est à dire un graphique dont l’axe des abscisses représente des dates"
   ]
  },
  {
   "cell_type": "code",
   "execution_count": 15,
   "metadata": {},
   "outputs": [
    {
     "data": {
      "image/png": "[encoded data removed]",
      "text/plain": [
       "<Figure size 1152x648 with 1 Axes>"
      ]
     },
     "metadata": {},
     "output_type": "display_data"
    }
   ],
   "source": [
    "# Affichage du density plot pour détecter en fonction de l'âge, les clients les plus nombreux, ainsi\n",
    "# que la présence de valeurs aberrantes\n",
    "jointure[\"age\"].plot(kind=\"density\", figsize=(16,9), color='b') \n",
    "plt.xlabel(\"age\", fontsize=16) \n",
    "plt.ylabel(\"Density\", fontsize=16)  \n",
    "plt.suptitle(\"Density plot de la variable 'age'\", fontsize=16)\n",
    "plt.savefig('density_plot_1')\n",
    "plt.show()"
   ]
  },
  {
   "cell_type": "markdown",
   "metadata": {},
   "source": [
    "# Analyses bivariées"
   ]
  },
  {
   "cell_type": "code",
   "execution_count": 16,
   "metadata": {},
   "outputs": [
    {
     "data": {
      "text/html": [
       "<div>\n",
       "<style scoped>\n",
       "    .dataframe tbody tr th:only-of-type {\n",
       "        vertical-align: middle;\n",
       "    }\n",
       "\n",
       "    .dataframe tbody tr th {\n",
       "        vertical-align: top;\n",
       "    }\n",
       "\n",
       "    .dataframe thead th {\n",
       "        text-align: right;\n",
       "    }\n",
       "</style>\n",
       "<table border=\"1\" class=\"dataframe\">\n",
       "  <thead>\n",
       "    <tr style=\"text-align: right;\">\n",
       "      <th></th>\n",
       "      <th>client_id</th>\n",
       "      <th>montant_achats</th>\n",
       "      <th>%_du_CA</th>\n",
       "    </tr>\n",
       "  </thead>\n",
       "  <tbody>\n",
       "    <tr>\n",
       "      <th>677</th>\n",
       "      <td>c_1609</td>\n",
       "      <td>162007.34</td>\n",
       "      <td>2.794297</td>\n",
       "    </tr>\n",
       "    <tr>\n",
       "      <th>4388</th>\n",
       "      <td>c_4958</td>\n",
       "      <td>144257.21</td>\n",
       "      <td>2.488143</td>\n",
       "    </tr>\n",
       "    <tr>\n",
       "      <th>6337</th>\n",
       "      <td>c_6714</td>\n",
       "      <td>73220.80</td>\n",
       "      <td>1.262910</td>\n",
       "    </tr>\n",
       "    <tr>\n",
       "      <th>2724</th>\n",
       "      <td>c_3454</td>\n",
       "      <td>54466.38</td>\n",
       "      <td>0.939434</td>\n",
       "    </tr>\n",
       "    <tr>\n",
       "      <th>7715</th>\n",
       "      <td>c_7959</td>\n",
       "      <td>2564.25</td>\n",
       "      <td>0.044228</td>\n",
       "    </tr>\n",
       "    <tr>\n",
       "      <th>7791</th>\n",
       "      <td>c_8026</td>\n",
       "      <td>2549.40</td>\n",
       "      <td>0.043972</td>\n",
       "    </tr>\n",
       "    <tr>\n",
       "      <th>3870</th>\n",
       "      <td>c_4491</td>\n",
       "      <td>2540.53</td>\n",
       "      <td>0.043819</td>\n",
       "    </tr>\n",
       "    <tr>\n",
       "      <th>1268</th>\n",
       "      <td>c_2140</td>\n",
       "      <td>2527.01</td>\n",
       "      <td>0.043586</td>\n",
       "    </tr>\n",
       "  </tbody>\n",
       "</table>\n",
       "</div>"
      ],
      "text/plain": [
       "     client_id  montant_achats   %_du_CA\n",
       "677     c_1609       162007.34  2.794297\n",
       "4388    c_4958       144257.21  2.488143\n",
       "6337    c_6714        73220.80  1.262910\n",
       "2724    c_3454        54466.38  0.939434\n",
       "7715    c_7959         2564.25  0.044228\n",
       "7791    c_8026         2549.40  0.043972\n",
       "3870    c_4491         2540.53  0.043819\n",
       "1268    c_2140         2527.01  0.043586"
      ]
     },
     "execution_count": 16,
     "metadata": {},
     "output_type": "execute_result"
    }
   ],
   "source": [
    "# montant total des achats par client \n",
    "gb_client_id = jointure.groupby('client_id')\n",
    "gb_client_id = gb_client_id['price'].sum(min_count=1)\n",
    "gb_client_id = gb_client_id.reset_index()\n",
    "gb_client_id.columns = ['client_id','montant_achats']\n",
    "gb_client_id['%_du_CA'] = (gb_client_id.montant_achats / gb_client_id.montant_achats.sum()) * 100\n",
    "gb_client_id.sort_values(by='montant_achats',ascending=False)[0:8]"
   ]
  },
  {
   "cell_type": "code",
   "execution_count": 17,
   "metadata": {},
   "outputs": [],
   "source": [
    "# les 4 premières valeurs correspondent peut-être à des clients professionnels au regard des montants\n",
    "# nous pourrions penser à des contrats passés avec des établissements scolaires pour se fournir en manuels \n",
    "# scolaires\n",
    "# il serait pertinent de les isoler, (en cas d'utilisation de méthodes peu robustes aux outliers )\n",
    "# nous allons donc créer un sous_échantillon nommé 'sous_jointure'\n",
    "\n",
    "# création d'une liste contenant les clients à retirer du sous-échantillon\n",
    "Liste = ['c_1609', 'c_4958', 'c_6714', 'c_3454']\n",
    "\n",
    "# utilisation de la liste sur le dataframe\n",
    "sous_jointure = jointure.loc[~jointure.client_id.isin(Liste), :].copy()"
   ]
  },
  {
   "cell_type": "code",
   "execution_count": 18,
   "metadata": {},
   "outputs": [
    {
     "data": {
      "text/html": [
       "<div>\n",
       "<style scoped>\n",
       "    .dataframe tbody tr th:only-of-type {\n",
       "        vertical-align: middle;\n",
       "    }\n",
       "\n",
       "    .dataframe tbody tr th {\n",
       "        vertical-align: top;\n",
       "    }\n",
       "\n",
       "    .dataframe thead th {\n",
       "        text-align: right;\n",
       "    }\n",
       "</style>\n",
       "<table border=\"1\" class=\"dataframe\">\n",
       "  <thead>\n",
       "    <tr style=\"text-align: right;\">\n",
       "      <th></th>\n",
       "      <th>client_id</th>\n",
       "      <th>montant_achats</th>\n",
       "      <th>%_du_CA</th>\n",
       "    </tr>\n",
       "  </thead>\n",
       "  <tbody>\n",
       "    <tr>\n",
       "      <th>7711</th>\n",
       "      <td>c_7959</td>\n",
       "      <td>2564.25</td>\n",
       "      <td>0.047806</td>\n",
       "    </tr>\n",
       "    <tr>\n",
       "      <th>7787</th>\n",
       "      <td>c_8026</td>\n",
       "      <td>2549.40</td>\n",
       "      <td>0.047529</td>\n",
       "    </tr>\n",
       "    <tr>\n",
       "      <th>3868</th>\n",
       "      <td>c_4491</td>\n",
       "      <td>2540.53</td>\n",
       "      <td>0.047364</td>\n",
       "    </tr>\n",
       "    <tr>\n",
       "      <th>1267</th>\n",
       "      <td>c_2140</td>\n",
       "      <td>2527.01</td>\n",
       "      <td>0.047112</td>\n",
       "    </tr>\n",
       "    <tr>\n",
       "      <th>8191</th>\n",
       "      <td>c_8392</td>\n",
       "      <td>2515.98</td>\n",
       "      <td>0.046906</td>\n",
       "    </tr>\n",
       "  </tbody>\n",
       "</table>\n",
       "</div>"
      ],
      "text/plain": [
       "     client_id  montant_achats   %_du_CA\n",
       "7711    c_7959         2564.25  0.047806\n",
       "7787    c_8026         2549.40  0.047529\n",
       "3868    c_4491         2540.53  0.047364\n",
       "1267    c_2140         2527.01  0.047112\n",
       "8191    c_8392         2515.98  0.046906"
      ]
     },
     "execution_count": 18,
     "metadata": {},
     "output_type": "execute_result"
    }
   ],
   "source": [
    "# relance de l'étape précédente\n",
    "gb_client_id = sous_jointure.groupby('client_id')\n",
    "gb_client_id = gb_client_id['price',].sum(min_count=1)\n",
    "gb_client_id = gb_client_id.reset_index()\n",
    "gb_client_id.columns = ['client_id','montant_achats']\n",
    "gb_client_id['%_du_CA'] = (gb_client_id.montant_achats / gb_client_id.montant_achats.sum()) * 100\n",
    "gb_client_id.sort_values(by='montant_achats',ascending=False).head()"
   ]
  },
  {
   "cell_type": "code",
   "execution_count": 19,
   "metadata": {},
   "outputs": [
    {
     "data": {
      "text/plain": [
       "str"
      ]
     },
     "execution_count": 19,
     "metadata": {},
     "output_type": "execute_result"
    }
   ],
   "source": [
    "# test du type de la variable 'date'\n",
    "type(sous_jointure.date[0])"
   ]
  },
  {
   "cell_type": "code",
   "execution_count": 20,
   "metadata": {},
   "outputs": [
    {
     "data": {
      "text/plain": [
       "pandas._libs.tslibs.timestamps.Timestamp"
      ]
     },
     "execution_count": 20,
     "metadata": {},
     "output_type": "execute_result"
    }
   ],
   "source": [
    "# nous allons redéfinir la date comme une date et non une variable textuelle\n",
    "sous_jointure['date'] = pd.to_datetime(sous_jointure['date'], errors='coerce')\n",
    "type(sous_jointure.date[0])"
   ]
  },
  {
   "cell_type": "code",
   "execution_count": 21,
   "metadata": {
    "scrolled": true
   },
   "outputs": [
    {
     "data": {
      "text/html": [
       "<div>\n",
       "<style scoped>\n",
       "    .dataframe tbody tr th:only-of-type {\n",
       "        vertical-align: middle;\n",
       "    }\n",
       "\n",
       "    .dataframe tbody tr th {\n",
       "        vertical-align: top;\n",
       "    }\n",
       "\n",
       "    .dataframe thead th {\n",
       "        text-align: right;\n",
       "    }\n",
       "</style>\n",
       "<table border=\"1\" class=\"dataframe\">\n",
       "  <thead>\n",
       "    <tr style=\"text-align: right;\">\n",
       "      <th></th>\n",
       "      <th>session_id</th>\n",
       "      <th>date</th>\n",
       "      <th>id_prod</th>\n",
       "      <th>price</th>\n",
       "      <th>categ</th>\n",
       "      <th>client_id</th>\n",
       "      <th>sex</th>\n",
       "      <th>age</th>\n",
       "      <th>dates_simplifiees</th>\n",
       "    </tr>\n",
       "  </thead>\n",
       "  <tbody>\n",
       "    <tr>\n",
       "      <th>0</th>\n",
       "      <td>s_18746</td>\n",
       "      <td>2021-04-10 18:37:28.723910</td>\n",
       "      <td>0_1483</td>\n",
       "      <td>4.99</td>\n",
       "      <td>0</td>\n",
       "      <td>c_4450</td>\n",
       "      <td>f</td>\n",
       "      <td>45</td>\n",
       "      <td>2021-04</td>\n",
       "    </tr>\n",
       "    <tr>\n",
       "      <th>1</th>\n",
       "      <td>s_159142</td>\n",
       "      <td>2022-02-03 01:55:53.276402</td>\n",
       "      <td>2_226</td>\n",
       "      <td>65.75</td>\n",
       "      <td>2</td>\n",
       "      <td>c_277</td>\n",
       "      <td>f</td>\n",
       "      <td>22</td>\n",
       "      <td>2022-02</td>\n",
       "    </tr>\n",
       "    <tr>\n",
       "      <th>2</th>\n",
       "      <td>s_94290</td>\n",
       "      <td>2021-09-23 15:13:46.938559</td>\n",
       "      <td>1_374</td>\n",
       "      <td>10.71</td>\n",
       "      <td>1</td>\n",
       "      <td>c_4270</td>\n",
       "      <td>f</td>\n",
       "      <td>43</td>\n",
       "      <td>2021-09</td>\n",
       "    </tr>\n",
       "    <tr>\n",
       "      <th>3</th>\n",
       "      <td>s_105936</td>\n",
       "      <td>2021-10-17 03:27:18.783634</td>\n",
       "      <td>0_2186</td>\n",
       "      <td>4.20</td>\n",
       "      <td>0</td>\n",
       "      <td>c_4597</td>\n",
       "      <td>m</td>\n",
       "      <td>59</td>\n",
       "      <td>2021-10</td>\n",
       "    </tr>\n",
       "    <tr>\n",
       "      <th>4</th>\n",
       "      <td>s_63642</td>\n",
       "      <td>2021-07-17 20:34:25.800563</td>\n",
       "      <td>0_1351</td>\n",
       "      <td>8.99</td>\n",
       "      <td>0</td>\n",
       "      <td>c_1242</td>\n",
       "      <td>f</td>\n",
       "      <td>42</td>\n",
       "      <td>2021-07</td>\n",
       "    </tr>\n",
       "  </tbody>\n",
       "</table>\n",
       "</div>"
      ],
      "text/plain": [
       "  session_id                       date id_prod  price  categ client_id sex  \\\n",
       "0    s_18746 2021-04-10 18:37:28.723910  0_1483   4.99      0    c_4450   f   \n",
       "1   s_159142 2022-02-03 01:55:53.276402   2_226  65.75      2     c_277   f   \n",
       "2    s_94290 2021-09-23 15:13:46.938559   1_374  10.71      1    c_4270   f   \n",
       "3   s_105936 2021-10-17 03:27:18.783634  0_2186   4.20      0    c_4597   m   \n",
       "4    s_63642 2021-07-17 20:34:25.800563  0_1351   8.99      0    c_1242   f   \n",
       "\n",
       "   age dates_simplifiees  \n",
       "0   45           2021-04  \n",
       "1   22           2022-02  \n",
       "2   43           2021-09  \n",
       "3   59           2021-10  \n",
       "4   42           2021-07  "
      ]
     },
     "execution_count": 21,
     "metadata": {},
     "output_type": "execute_result"
    }
   ],
   "source": [
    "# nous allons modifier le format de la variable 'date'\n",
    "sous_jointure['dates_simplifiees'] = sous_jointure.date.map(lambda x: x.strftime('%Y-%m'))\n",
    "sous_jointure.head()"
   ]
  },
  {
   "cell_type": "code",
   "execution_count": 22,
   "metadata": {},
   "outputs": [
    {
     "data": {
      "text/html": [
       "<div>\n",
       "<style scoped>\n",
       "    .dataframe tbody tr th:only-of-type {\n",
       "        vertical-align: middle;\n",
       "    }\n",
       "\n",
       "    .dataframe tbody tr th {\n",
       "        vertical-align: top;\n",
       "    }\n",
       "\n",
       "    .dataframe thead th {\n",
       "        text-align: right;\n",
       "    }\n",
       "</style>\n",
       "<table border=\"1\" class=\"dataframe\">\n",
       "  <thead>\n",
       "    <tr style=\"text-align: right;\">\n",
       "      <th></th>\n",
       "      <th>session_id</th>\n",
       "      <th>date</th>\n",
       "      <th>dates_simplifiees</th>\n",
       "      <th>id_prod</th>\n",
       "      <th>price</th>\n",
       "      <th>categ</th>\n",
       "      <th>client_id</th>\n",
       "      <th>sex</th>\n",
       "      <th>age</th>\n",
       "    </tr>\n",
       "  </thead>\n",
       "  <tbody>\n",
       "    <tr>\n",
       "      <th>0</th>\n",
       "      <td>s_18746</td>\n",
       "      <td>2021-04-10 18:37:28.723910</td>\n",
       "      <td>2021-04</td>\n",
       "      <td>0_1483</td>\n",
       "      <td>4.99</td>\n",
       "      <td>0</td>\n",
       "      <td>c_4450</td>\n",
       "      <td>f</td>\n",
       "      <td>45</td>\n",
       "    </tr>\n",
       "    <tr>\n",
       "      <th>1</th>\n",
       "      <td>s_159142</td>\n",
       "      <td>2022-02-03 01:55:53.276402</td>\n",
       "      <td>2022-02</td>\n",
       "      <td>2_226</td>\n",
       "      <td>65.75</td>\n",
       "      <td>2</td>\n",
       "      <td>c_277</td>\n",
       "      <td>f</td>\n",
       "      <td>22</td>\n",
       "    </tr>\n",
       "    <tr>\n",
       "      <th>2</th>\n",
       "      <td>s_94290</td>\n",
       "      <td>2021-09-23 15:13:46.938559</td>\n",
       "      <td>2021-09</td>\n",
       "      <td>1_374</td>\n",
       "      <td>10.71</td>\n",
       "      <td>1</td>\n",
       "      <td>c_4270</td>\n",
       "      <td>f</td>\n",
       "      <td>43</td>\n",
       "    </tr>\n",
       "    <tr>\n",
       "      <th>3</th>\n",
       "      <td>s_105936</td>\n",
       "      <td>2021-10-17 03:27:18.783634</td>\n",
       "      <td>2021-10</td>\n",
       "      <td>0_2186</td>\n",
       "      <td>4.20</td>\n",
       "      <td>0</td>\n",
       "      <td>c_4597</td>\n",
       "      <td>m</td>\n",
       "      <td>59</td>\n",
       "    </tr>\n",
       "    <tr>\n",
       "      <th>4</th>\n",
       "      <td>s_63642</td>\n",
       "      <td>2021-07-17 20:34:25.800563</td>\n",
       "      <td>2021-07</td>\n",
       "      <td>0_1351</td>\n",
       "      <td>8.99</td>\n",
       "      <td>0</td>\n",
       "      <td>c_1242</td>\n",
       "      <td>f</td>\n",
       "      <td>42</td>\n",
       "    </tr>\n",
       "  </tbody>\n",
       "</table>\n",
       "</div>"
      ],
      "text/plain": [
       "  session_id                       date dates_simplifiees id_prod  price  \\\n",
       "0    s_18746 2021-04-10 18:37:28.723910           2021-04  0_1483   4.99   \n",
       "1   s_159142 2022-02-03 01:55:53.276402           2022-02   2_226  65.75   \n",
       "2    s_94290 2021-09-23 15:13:46.938559           2021-09   1_374  10.71   \n",
       "3   s_105936 2021-10-17 03:27:18.783634           2021-10  0_2186   4.20   \n",
       "4    s_63642 2021-07-17 20:34:25.800563           2021-07  0_1351   8.99   \n",
       "\n",
       "   categ client_id sex  age  \n",
       "0      0    c_4450   f   45  \n",
       "1      2     c_277   f   22  \n",
       "2      1    c_4270   f   43  \n",
       "3      0    c_4597   m   59  \n",
       "4      0    c_1242   f   42  "
      ]
     },
     "execution_count": 22,
     "metadata": {},
     "output_type": "execute_result"
    }
   ],
   "source": [
    "# nous allons classer les variables dans un ordre plus cohérent\n",
    "sous_jointure = sous_jointure[['session_id','date','dates_simplifiees','id_prod','price','categ','client_id','sex',\n",
    "                               'age']]\n",
    "sous_jointure.head()"
   ]
  },
  {
   "cell_type": "code",
   "execution_count": 23,
   "metadata": {},
   "outputs": [
    {
     "data": {
      "text/html": [
       "<div>\n",
       "<style scoped>\n",
       "    .dataframe tbody tr th:only-of-type {\n",
       "        vertical-align: middle;\n",
       "    }\n",
       "\n",
       "    .dataframe tbody tr th {\n",
       "        vertical-align: top;\n",
       "    }\n",
       "\n",
       "    .dataframe thead th {\n",
       "        text-align: right;\n",
       "    }\n",
       "</style>\n",
       "<table border=\"1\" class=\"dataframe\">\n",
       "  <thead>\n",
       "    <tr style=\"text-align: right;\">\n",
       "      <th></th>\n",
       "      <th>CA</th>\n",
       "    </tr>\n",
       "    <tr>\n",
       "      <th>dates_simplifiees</th>\n",
       "      <th></th>\n",
       "    </tr>\n",
       "  </thead>\n",
       "  <tbody>\n",
       "    <tr>\n",
       "      <th>2021-03</th>\n",
       "      <td>443044.68</td>\n",
       "    </tr>\n",
       "    <tr>\n",
       "      <th>2021-04</th>\n",
       "      <td>436338.30</td>\n",
       "    </tr>\n",
       "    <tr>\n",
       "      <th>2021-05</th>\n",
       "      <td>451405.78</td>\n",
       "    </tr>\n",
       "    <tr>\n",
       "      <th>2021-06</th>\n",
       "      <td>444937.85</td>\n",
       "    </tr>\n",
       "    <tr>\n",
       "      <th>2021-07</th>\n",
       "      <td>445703.33</td>\n",
       "    </tr>\n",
       "    <tr>\n",
       "      <th>2021-08</th>\n",
       "      <td>443277.25</td>\n",
       "    </tr>\n",
       "    <tr>\n",
       "      <th>2021-09</th>\n",
       "      <td>466891.12</td>\n",
       "    </tr>\n",
       "    <tr>\n",
       "      <th>2021-10</th>\n",
       "      <td>295320.66</td>\n",
       "    </tr>\n",
       "    <tr>\n",
       "      <th>2021-11</th>\n",
       "      <td>475229.78</td>\n",
       "    </tr>\n",
       "    <tr>\n",
       "      <th>2021-12</th>\n",
       "      <td>484825.91</td>\n",
       "    </tr>\n",
       "    <tr>\n",
       "      <th>2022-01</th>\n",
       "      <td>486634.03</td>\n",
       "    </tr>\n",
       "    <tr>\n",
       "      <th>2022-02</th>\n",
       "      <td>490225.54</td>\n",
       "    </tr>\n",
       "  </tbody>\n",
       "</table>\n",
       "</div>"
      ],
      "text/plain": [
       "                          CA\n",
       "dates_simplifiees           \n",
       "2021-03            443044.68\n",
       "2021-04            436338.30\n",
       "2021-05            451405.78\n",
       "2021-06            444937.85\n",
       "2021-07            445703.33\n",
       "2021-08            443277.25\n",
       "2021-09            466891.12\n",
       "2021-10            295320.66\n",
       "2021-11            475229.78\n",
       "2021-12            484825.91\n",
       "2022-01            486634.03\n",
       "2022-02            490225.54"
      ]
     },
     "execution_count": 23,
     "metadata": {},
     "output_type": "execute_result"
    }
   ],
   "source": [
    "# chiffre d'affaire par périodes\n",
    "gb_CA_par_mois = sous_jointure.groupby('dates_simplifiees')\n",
    "gb_CA_par_mois = gb_CA_par_mois['price',].sum(min_count=1)\n",
    "gb_CA_par_mois.columns = ['CA']\n",
    "gb_CA_par_mois"
   ]
  },
  {
   "cell_type": "code",
   "execution_count": 24,
   "metadata": {},
   "outputs": [
    {
     "data": {
      "image/png": "[encoded data removed]",
      "text/plain": [
       "<Figure size 1152x648 with 1 Axes>"
      ]
     },
     "metadata": {},
     "output_type": "display_data"
    }
   ],
   "source": [
    "# Affichage du diagramme en tuyaux d'orgues\n",
    "gb_CA_par_mois[\"CA\"].plot(kind='bar', figsize=(16,9), color=['b', 'b', 'b', 'b', 'b', 'b', 'b','r'])\n",
    "plt.xlabel(\"Dates simplifiées\", fontsize=16) \n",
    "plt.ylabel(\"Chiffre d'affaire en €\", fontsize=16)  \n",
    "plt.suptitle('Chiffre d affaire en € en fonction des dates simplifiées' , fontsize=16)\n",
    "plt.savefig('CA_date')\n",
    "plt.show()"
   ]
  },
  {
   "cell_type": "code",
   "execution_count": 25,
   "metadata": {},
   "outputs": [
    {
     "data": {
      "text/html": [
       "<div>\n",
       "<style scoped>\n",
       "    .dataframe tbody tr th:only-of-type {\n",
       "        vertical-align: middle;\n",
       "    }\n",
       "\n",
       "    .dataframe tbody tr th {\n",
       "        vertical-align: top;\n",
       "    }\n",
       "\n",
       "    .dataframe thead th {\n",
       "        text-align: right;\n",
       "    }\n",
       "</style>\n",
       "<table border=\"1\" class=\"dataframe\">\n",
       "  <thead>\n",
       "    <tr style=\"text-align: right;\">\n",
       "      <th></th>\n",
       "      <th>session_id</th>\n",
       "      <th>date</th>\n",
       "      <th>dates_simplifiees</th>\n",
       "      <th>id_prod</th>\n",
       "      <th>price</th>\n",
       "      <th>categ</th>\n",
       "      <th>client_id</th>\n",
       "      <th>sex</th>\n",
       "      <th>age</th>\n",
       "      <th>dates_simplifiees_jours</th>\n",
       "    </tr>\n",
       "  </thead>\n",
       "  <tbody>\n",
       "    <tr>\n",
       "      <th>0</th>\n",
       "      <td>s_18746</td>\n",
       "      <td>2021-04-10 18:37:28.723910</td>\n",
       "      <td>2021-04</td>\n",
       "      <td>0_1483</td>\n",
       "      <td>4.99</td>\n",
       "      <td>0</td>\n",
       "      <td>c_4450</td>\n",
       "      <td>f</td>\n",
       "      <td>45</td>\n",
       "      <td>2021-04-10</td>\n",
       "    </tr>\n",
       "    <tr>\n",
       "      <th>1</th>\n",
       "      <td>s_159142</td>\n",
       "      <td>2022-02-03 01:55:53.276402</td>\n",
       "      <td>2022-02</td>\n",
       "      <td>2_226</td>\n",
       "      <td>65.75</td>\n",
       "      <td>2</td>\n",
       "      <td>c_277</td>\n",
       "      <td>f</td>\n",
       "      <td>22</td>\n",
       "      <td>2022-02-03</td>\n",
       "    </tr>\n",
       "    <tr>\n",
       "      <th>2</th>\n",
       "      <td>s_94290</td>\n",
       "      <td>2021-09-23 15:13:46.938559</td>\n",
       "      <td>2021-09</td>\n",
       "      <td>1_374</td>\n",
       "      <td>10.71</td>\n",
       "      <td>1</td>\n",
       "      <td>c_4270</td>\n",
       "      <td>f</td>\n",
       "      <td>43</td>\n",
       "      <td>2021-09-23</td>\n",
       "    </tr>\n",
       "    <tr>\n",
       "      <th>3</th>\n",
       "      <td>s_105936</td>\n",
       "      <td>2021-10-17 03:27:18.783634</td>\n",
       "      <td>2021-10</td>\n",
       "      <td>0_2186</td>\n",
       "      <td>4.20</td>\n",
       "      <td>0</td>\n",
       "      <td>c_4597</td>\n",
       "      <td>m</td>\n",
       "      <td>59</td>\n",
       "      <td>2021-10-17</td>\n",
       "    </tr>\n",
       "    <tr>\n",
       "      <th>4</th>\n",
       "      <td>s_63642</td>\n",
       "      <td>2021-07-17 20:34:25.800563</td>\n",
       "      <td>2021-07</td>\n",
       "      <td>0_1351</td>\n",
       "      <td>8.99</td>\n",
       "      <td>0</td>\n",
       "      <td>c_1242</td>\n",
       "      <td>f</td>\n",
       "      <td>42</td>\n",
       "      <td>2021-07-17</td>\n",
       "    </tr>\n",
       "  </tbody>\n",
       "</table>\n",
       "</div>"
      ],
      "text/plain": [
       "  session_id                       date dates_simplifiees id_prod  price  \\\n",
       "0    s_18746 2021-04-10 18:37:28.723910           2021-04  0_1483   4.99   \n",
       "1   s_159142 2022-02-03 01:55:53.276402           2022-02   2_226  65.75   \n",
       "2    s_94290 2021-09-23 15:13:46.938559           2021-09   1_374  10.71   \n",
       "3   s_105936 2021-10-17 03:27:18.783634           2021-10  0_2186   4.20   \n",
       "4    s_63642 2021-07-17 20:34:25.800563           2021-07  0_1351   8.99   \n",
       "\n",
       "   categ client_id sex  age dates_simplifiees_jours  \n",
       "0      0    c_4450   f   45              2021-04-10  \n",
       "1      2     c_277   f   22              2022-02-03  \n",
       "2      1    c_4270   f   43              2021-09-23  \n",
       "3      0    c_4597   m   59              2021-10-17  \n",
       "4      0    c_1242   f   42              2021-07-17  "
      ]
     },
     "execution_count": 25,
     "metadata": {},
     "output_type": "execute_result"
    }
   ],
   "source": [
    "# Nous allons rechercher les causes de cette chute du CA sur 2021-10\n",
    "# ajout d'une nouvelle colonne 'dates_simplifiees_jours'\n",
    "sous_jointure['dates_simplifiees_jours'] = sous_jointure.date.map(lambda x: x.strftime('%Y-%m-%d'))\n",
    "sous_jointure.head()"
   ]
  },
  {
   "cell_type": "code",
   "execution_count": 26,
   "metadata": {},
   "outputs": [
    {
     "data": {
      "text/html": [
       "<div>\n",
       "<style scoped>\n",
       "    .dataframe tbody tr th:only-of-type {\n",
       "        vertical-align: middle;\n",
       "    }\n",
       "\n",
       "    .dataframe tbody tr th {\n",
       "        vertical-align: top;\n",
       "    }\n",
       "\n",
       "    .dataframe thead th {\n",
       "        text-align: right;\n",
       "    }\n",
       "</style>\n",
       "<table border=\"1\" class=\"dataframe\">\n",
       "  <thead>\n",
       "    <tr style=\"text-align: right;\">\n",
       "      <th></th>\n",
       "      <th>session_id</th>\n",
       "      <th>date</th>\n",
       "      <th>dates_simplifiees</th>\n",
       "      <th>dates_simplifiees_jours</th>\n",
       "      <th>id_prod</th>\n",
       "      <th>price</th>\n",
       "      <th>categ</th>\n",
       "      <th>client_id</th>\n",
       "      <th>sex</th>\n",
       "      <th>age</th>\n",
       "    </tr>\n",
       "  </thead>\n",
       "  <tbody>\n",
       "    <tr>\n",
       "      <th>0</th>\n",
       "      <td>s_18746</td>\n",
       "      <td>2021-04-10 18:37:28.723910</td>\n",
       "      <td>2021-04</td>\n",
       "      <td>2021-04-10</td>\n",
       "      <td>0_1483</td>\n",
       "      <td>4.99</td>\n",
       "      <td>0</td>\n",
       "      <td>c_4450</td>\n",
       "      <td>f</td>\n",
       "      <td>45</td>\n",
       "    </tr>\n",
       "    <tr>\n",
       "      <th>1</th>\n",
       "      <td>s_159142</td>\n",
       "      <td>2022-02-03 01:55:53.276402</td>\n",
       "      <td>2022-02</td>\n",
       "      <td>2022-02-03</td>\n",
       "      <td>2_226</td>\n",
       "      <td>65.75</td>\n",
       "      <td>2</td>\n",
       "      <td>c_277</td>\n",
       "      <td>f</td>\n",
       "      <td>22</td>\n",
       "    </tr>\n",
       "    <tr>\n",
       "      <th>2</th>\n",
       "      <td>s_94290</td>\n",
       "      <td>2021-09-23 15:13:46.938559</td>\n",
       "      <td>2021-09</td>\n",
       "      <td>2021-09-23</td>\n",
       "      <td>1_374</td>\n",
       "      <td>10.71</td>\n",
       "      <td>1</td>\n",
       "      <td>c_4270</td>\n",
       "      <td>f</td>\n",
       "      <td>43</td>\n",
       "    </tr>\n",
       "    <tr>\n",
       "      <th>3</th>\n",
       "      <td>s_105936</td>\n",
       "      <td>2021-10-17 03:27:18.783634</td>\n",
       "      <td>2021-10</td>\n",
       "      <td>2021-10-17</td>\n",
       "      <td>0_2186</td>\n",
       "      <td>4.20</td>\n",
       "      <td>0</td>\n",
       "      <td>c_4597</td>\n",
       "      <td>m</td>\n",
       "      <td>59</td>\n",
       "    </tr>\n",
       "    <tr>\n",
       "      <th>4</th>\n",
       "      <td>s_63642</td>\n",
       "      <td>2021-07-17 20:34:25.800563</td>\n",
       "      <td>2021-07</td>\n",
       "      <td>2021-07-17</td>\n",
       "      <td>0_1351</td>\n",
       "      <td>8.99</td>\n",
       "      <td>0</td>\n",
       "      <td>c_1242</td>\n",
       "      <td>f</td>\n",
       "      <td>42</td>\n",
       "    </tr>\n",
       "  </tbody>\n",
       "</table>\n",
       "</div>"
      ],
      "text/plain": [
       "  session_id                       date dates_simplifiees  \\\n",
       "0    s_18746 2021-04-10 18:37:28.723910           2021-04   \n",
       "1   s_159142 2022-02-03 01:55:53.276402           2022-02   \n",
       "2    s_94290 2021-09-23 15:13:46.938559           2021-09   \n",
       "3   s_105936 2021-10-17 03:27:18.783634           2021-10   \n",
       "4    s_63642 2021-07-17 20:34:25.800563           2021-07   \n",
       "\n",
       "  dates_simplifiees_jours id_prod  price  categ client_id sex  age  \n",
       "0              2021-04-10  0_1483   4.99      0    c_4450   f   45  \n",
       "1              2022-02-03   2_226  65.75      2     c_277   f   22  \n",
       "2              2021-09-23   1_374  10.71      1    c_4270   f   43  \n",
       "3              2021-10-17  0_2186   4.20      0    c_4597   m   59  \n",
       "4              2021-07-17  0_1351   8.99      0    c_1242   f   42  "
      ]
     },
     "execution_count": 26,
     "metadata": {},
     "output_type": "execute_result"
    }
   ],
   "source": [
    "# nous allons classer les variables dans un ordre plus cohérent\n",
    "sous_jointure = sous_jointure[['session_id','date','dates_simplifiees','dates_simplifiees_jours','id_prod','price',\n",
    "                               'categ','client_id','sex','age']]\n",
    "sous_jointure.head()"
   ]
  },
  {
   "cell_type": "code",
   "execution_count": 27,
   "metadata": {},
   "outputs": [],
   "source": [
    "# Nous allons rechercher dans la table initiale les causes de cette chute du CA sur 2021-10 en travaillant sur les\n",
    "# mois suivants : septembre, octobre et novembre\n",
    "a = sous_jointure.loc[sous_jointure.dates_simplifiees.isin(['2021-09', '2021-10', '2021-11']),:]\n",
    "b = a.groupby(by='dates_simplifiees_jours').sum()"
   ]
  },
  {
   "cell_type": "code",
   "execution_count": 28,
   "metadata": {},
   "outputs": [],
   "source": [
    "b = b.drop(columns=['age', 'categ'])"
   ]
  },
  {
   "cell_type": "code",
   "execution_count": 29,
   "metadata": {},
   "outputs": [
    {
     "data": {
      "image/png": "[encoded data removed]",
      "text/plain": [
       "<Figure size 1152x576 with 1 Axes>"
      ]
     },
     "metadata": {},
     "output_type": "display_data"
    }
   ],
   "source": [
    "# affichage du plot \n",
    "b['price'].plot(figsize=(16,8), color=['b'])\n",
    "plt.savefig('baisse_CA')\n",
    "plt.show()"
   ]
  },
  {
   "cell_type": "code",
   "execution_count": 30,
   "metadata": {},
   "outputs": [],
   "source": [
    "# après lecture du graph, nous avons 3 semaines en octobre, où l'on peut observer une baisse substencielle du CA "
   ]
  },
  {
   "cell_type": "markdown",
   "metadata": {},
   "source": [
    "# Mission n°3\n",
    "\n",
    "Voici quelques questions supplémentaires, que votre manager vous a posées :\n",
    "\n",
    "- Y a-t-il une corrélation entre le sexe des clients et les catégories de produits achetés ?\n",
    "- Y a-t-il une corrélation entre l'âge des clients et :\n",
    "   - le montant total des achats\n",
    "   - la fréquence d’achat (ie. nombre d'achats par mois par exemple)\n",
    "   - la taille du panier moyen (en nombre d’articles)\n",
    "   - les catégories de produits achetés"
   ]
  },
  {
   "cell_type": "markdown",
   "metadata": {},
   "source": [
    "# Recherche de dépendance on non entre le sexe des clients et les catégories de produits achetés"
   ]
  },
  {
   "cell_type": "code",
   "execution_count": 31,
   "metadata": {},
   "outputs": [
    {
     "data": {
      "text/html": [
       "<div>\n",
       "<style scoped>\n",
       "    .dataframe tbody tr th:only-of-type {\n",
       "        vertical-align: middle;\n",
       "    }\n",
       "\n",
       "    .dataframe tbody tr th {\n",
       "        vertical-align: top;\n",
       "    }\n",
       "\n",
       "    .dataframe thead th {\n",
       "        text-align: right;\n",
       "    }\n",
       "</style>\n",
       "<table border=\"1\" class=\"dataframe\">\n",
       "  <thead>\n",
       "    <tr style=\"text-align: right;\">\n",
       "      <th>categ</th>\n",
       "      <th>0</th>\n",
       "      <th>1</th>\n",
       "      <th>2</th>\n",
       "      <th>Total</th>\n",
       "    </tr>\n",
       "    <tr>\n",
       "      <th>sex</th>\n",
       "      <th></th>\n",
       "      <th></th>\n",
       "      <th></th>\n",
       "      <th></th>\n",
       "    </tr>\n",
       "  </thead>\n",
       "  <tbody>\n",
       "    <tr>\n",
       "      <th>f</th>\n",
       "      <td>101206.0</td>\n",
       "      <td>53774.0</td>\n",
       "      <td>8122.0</td>\n",
       "      <td>163102.0</td>\n",
       "    </tr>\n",
       "    <tr>\n",
       "      <th>m</th>\n",
       "      <td>94064.0</td>\n",
       "      <td>48851.0</td>\n",
       "      <td>7634.0</td>\n",
       "      <td>150549.0</td>\n",
       "    </tr>\n",
       "    <tr>\n",
       "      <th>total</th>\n",
       "      <td>195270.0</td>\n",
       "      <td>102625.0</td>\n",
       "      <td>15756.0</td>\n",
       "      <td>313651.0</td>\n",
       "    </tr>\n",
       "  </tbody>\n",
       "</table>\n",
       "</div>"
      ],
      "text/plain": [
       "categ         0         1        2     Total\n",
       "sex                                         \n",
       "f      101206.0   53774.0   8122.0  163102.0\n",
       "m       94064.0   48851.0   7634.0  150549.0\n",
       "total  195270.0  102625.0  15756.0  313651.0"
      ]
     },
     "execution_count": 31,
     "metadata": {},
     "output_type": "execute_result"
    }
   ],
   "source": [
    "# nous devons travailler avec 2 variables qualitatives, nous allons donc faire appel à un tableau de contingence \n",
    "X = \"sex\"\n",
    "Y = \"categ\"\n",
    "\n",
    "c = sous_jointure[[X,Y]].pivot_table(index=X,columns=Y,aggfunc=len)\n",
    "cont = c.copy()\n",
    "\n",
    "tx = sous_jointure[X].value_counts()\n",
    "ty = sous_jointure[Y].value_counts()\n",
    "\n",
    "cont.loc[:,\"Total\"] = tx\n",
    "cont.loc[\"total\",:] = ty\n",
    "cont.loc[\"total\",\"Total\"] = len(sous_jointure)\n",
    "cont"
   ]
  },
  {
   "cell_type": "code",
   "execution_count": 32,
   "metadata": {
    "scrolled": true
   },
   "outputs": [
    {
     "data": {
      "text/html": [
       "<div>\n",
       "<style scoped>\n",
       "    .dataframe tbody tr th:only-of-type {\n",
       "        vertical-align: middle;\n",
       "    }\n",
       "\n",
       "    .dataframe tbody tr th {\n",
       "        vertical-align: top;\n",
       "    }\n",
       "\n",
       "    .dataframe thead th {\n",
       "        text-align: right;\n",
       "    }\n",
       "</style>\n",
       "<table border=\"1\" class=\"dataframe\">\n",
       "  <thead>\n",
       "    <tr style=\"text-align: right;\">\n",
       "      <th>categ</th>\n",
       "      <th>0</th>\n",
       "      <th>1</th>\n",
       "      <th>2</th>\n",
       "    </tr>\n",
       "    <tr>\n",
       "      <th>sex</th>\n",
       "      <th></th>\n",
       "      <th></th>\n",
       "      <th></th>\n",
       "    </tr>\n",
       "  </thead>\n",
       "  <tbody>\n",
       "    <tr>\n",
       "      <th>f</th>\n",
       "      <td>101206.0</td>\n",
       "      <td>53774.0</td>\n",
       "      <td>8122.0</td>\n",
       "    </tr>\n",
       "    <tr>\n",
       "      <th>m</th>\n",
       "      <td>94064.0</td>\n",
       "      <td>48851.0</td>\n",
       "      <td>7634.0</td>\n",
       "    </tr>\n",
       "  </tbody>\n",
       "</table>\n",
       "</div>"
      ],
      "text/plain": [
       "categ         0        1       2\n",
       "sex                             \n",
       "f      101206.0  53774.0  8122.0\n",
       "m       94064.0  48851.0  7634.0"
      ]
     },
     "execution_count": 32,
     "metadata": {},
     "output_type": "execute_result"
    }
   ],
   "source": [
    "cont.iloc[0:2,0:3]"
   ]
  },
  {
   "cell_type": "code",
   "execution_count": 33,
   "metadata": {},
   "outputs": [],
   "source": [
    "# De ce tableau de contingence, nous ne pouvons en tirer aucune conclusion de corrélation, car nous ne connaissons pas\n",
    "# dans l'échantillon le pourcentage de femmes par rapport aux hommes\n",
    "# pour plus de précision, nous allons faire appel à un tableau de contingence coloré"
   ]
  },
  {
   "cell_type": "code",
   "execution_count": 34,
   "metadata": {},
   "outputs": [
    {
     "data": {
      "image/png": "[encoded data removed]",
      "text/plain": [
       "<Figure size 1152x576 with 2 Axes>"
      ]
     },
     "metadata": {},
     "output_type": "display_data"
    }
   ],
   "source": [
    "# affichage du tableau de contingence coloré avec les valeurs de ξn (cf règle graduée du graphique)\n",
    "tx = pd.DataFrame(tx)\n",
    "ty = pd.DataFrame(ty)\n",
    "tx.columns = [\"foo\"]\n",
    "ty.columns = [\"foo\"]\n",
    "n = len(sous_jointure)\n",
    "indep = tx.dot(ty.T) / n\n",
    "\n",
    "c = c.fillna(0) # on remplace les valeurs nulles par des 0\n",
    "mesure = (c-indep)**2/indep\n",
    "xi_n = mesure.sum().sum()\n",
    "plt.figure(figsize=(16,8))\n",
    "sns.heatmap(mesure/xi_n,annot=c)\n",
    "plt.savefig('tableau_conting_coloré')\n",
    "plt.show()"
   ]
  },
  {
   "cell_type": "code",
   "execution_count": 35,
   "metadata": {},
   "outputs": [],
   "source": [
    "# nous observons une corrélation entre les variables :\n",
    "#   - d'une part entre le sexe des clients et le nombre d'articles achetés\n",
    "#   - d'autre part entre le categ et le nombre d'articles achetés"
   ]
  },
  {
   "cell_type": "code",
   "execution_count": 36,
   "metadata": {},
   "outputs": [
    {
     "data": {
      "text/plain": [
       "(10.110865513726571, 2, 0.006374607510181767)"
      ]
     },
     "execution_count": 36,
     "metadata": {},
     "output_type": "execute_result"
    }
   ],
   "source": [
    "# pour vérifier ces observations, nous allons lancer un test d'indépendance\n",
    "chi2, pvalue, degrees, expected = chi2_contingency(cont.iloc[0:2,0:3])\n",
    "chi2, degrees, pvalue\n"
   ]
  },
  {
   "cell_type": "code",
   "execution_count": 37,
   "metadata": {},
   "outputs": [],
   "source": [
    "# D'après nos recherches nous avons un chi2 théorique de 5,99, celui-ci est inférieur à notre chi2 observé, le test \n",
    "# d'indépendance mathématique n'est pas vérifié, les variables sont donc dépendantes (corrélées dirait-on avec des \n",
    "# variables quantitatives)\n",
    "# de plus pvalue inférieure à 0.05, ce test vient confirmer la dépendance de ces 2 variables qualitatives"
   ]
  },
  {
   "cell_type": "markdown",
   "metadata": {},
   "source": [
    "# Recherche de corrélation on non entre l'âge des clients et le montant total des achats"
   ]
  },
  {
   "cell_type": "code",
   "execution_count": 38,
   "metadata": {},
   "outputs": [
    {
     "data": {
      "text/html": [
       "<div>\n",
       "<style scoped>\n",
       "    .dataframe tbody tr th:only-of-type {\n",
       "        vertical-align: middle;\n",
       "    }\n",
       "\n",
       "    .dataframe tbody tr th {\n",
       "        vertical-align: top;\n",
       "    }\n",
       "\n",
       "    .dataframe thead th {\n",
       "        text-align: right;\n",
       "    }\n",
       "</style>\n",
       "<table border=\"1\" class=\"dataframe\">\n",
       "  <thead>\n",
       "    <tr style=\"text-align: right;\">\n",
       "      <th></th>\n",
       "      <th></th>\n",
       "      <th>price</th>\n",
       "      <th>categ</th>\n",
       "    </tr>\n",
       "    <tr>\n",
       "      <th>age</th>\n",
       "      <th>client_id</th>\n",
       "      <th></th>\n",
       "      <th></th>\n",
       "    </tr>\n",
       "  </thead>\n",
       "  <tbody>\n",
       "    <tr>\n",
       "      <th rowspan=\"5\" valign=\"top\">18</th>\n",
       "      <th>c_1042</th>\n",
       "      <td>193.58</td>\n",
       "      <td>7</td>\n",
       "    </tr>\n",
       "    <tr>\n",
       "      <th>c_1046</th>\n",
       "      <td>486.16</td>\n",
       "      <td>14</td>\n",
       "    </tr>\n",
       "    <tr>\n",
       "      <th>c_1065</th>\n",
       "      <td>670.44</td>\n",
       "      <td>25</td>\n",
       "    </tr>\n",
       "    <tr>\n",
       "      <th>c_1088</th>\n",
       "      <td>283.43</td>\n",
       "      <td>10</td>\n",
       "    </tr>\n",
       "    <tr>\n",
       "      <th>c_109</th>\n",
       "      <td>400.20</td>\n",
       "      <td>11</td>\n",
       "    </tr>\n",
       "  </tbody>\n",
       "</table>\n",
       "</div>"
      ],
      "text/plain": [
       "                price  categ\n",
       "age client_id               \n",
       "18  c_1042     193.58      7\n",
       "    c_1046     486.16     14\n",
       "    c_1065     670.44     25\n",
       "    c_1088     283.43     10\n",
       "    c_109      400.20     11"
      ]
     },
     "execution_count": 38,
     "metadata": {},
     "output_type": "execute_result"
    }
   ],
   "source": [
    "gb_age_total_achats = sous_jointure.groupby(['age', 'client_id']).sum()\n",
    "gb_age_total_achats.head()"
   ]
  },
  {
   "cell_type": "code",
   "execution_count": 39,
   "metadata": {},
   "outputs": [
    {
     "data": {
      "text/html": [
       "<div>\n",
       "<style scoped>\n",
       "    .dataframe tbody tr th:only-of-type {\n",
       "        vertical-align: middle;\n",
       "    }\n",
       "\n",
       "    .dataframe tbody tr th {\n",
       "        vertical-align: top;\n",
       "    }\n",
       "\n",
       "    .dataframe thead th {\n",
       "        text-align: right;\n",
       "    }\n",
       "</style>\n",
       "<table border=\"1\" class=\"dataframe\">\n",
       "  <thead>\n",
       "    <tr style=\"text-align: right;\">\n",
       "      <th></th>\n",
       "      <th>montant</th>\n",
       "      <th>categ</th>\n",
       "    </tr>\n",
       "    <tr>\n",
       "      <th>age</th>\n",
       "      <th></th>\n",
       "      <th></th>\n",
       "    </tr>\n",
       "  </thead>\n",
       "  <tbody>\n",
       "    <tr>\n",
       "      <th>18</th>\n",
       "      <td>675.945034</td>\n",
       "      <td>19.681922</td>\n",
       "    </tr>\n",
       "    <tr>\n",
       "      <th>19</th>\n",
       "      <td>610.078552</td>\n",
       "      <td>17.731034</td>\n",
       "    </tr>\n",
       "    <tr>\n",
       "      <th>20</th>\n",
       "      <td>620.150000</td>\n",
       "      <td>18.082759</td>\n",
       "    </tr>\n",
       "    <tr>\n",
       "      <th>21</th>\n",
       "      <td>679.051840</td>\n",
       "      <td>19.280000</td>\n",
       "    </tr>\n",
       "    <tr>\n",
       "      <th>22</th>\n",
       "      <td>589.056250</td>\n",
       "      <td>17.536765</td>\n",
       "    </tr>\n",
       "  </tbody>\n",
       "</table>\n",
       "</div>"
      ],
      "text/plain": [
       "        montant      categ\n",
       "age                       \n",
       "18   675.945034  19.681922\n",
       "19   610.078552  17.731034\n",
       "20   620.150000  18.082759\n",
       "21   679.051840  19.280000\n",
       "22   589.056250  17.536765"
      ]
     },
     "execution_count": 39,
     "metadata": {},
     "output_type": "execute_result"
    }
   ],
   "source": [
    "gb_age_total_achats = gb_age_total_achats.groupby('age').mean()\n",
    "gb_age_total_achats.columns = ['montant','categ']\n",
    "gb_age_total_achats.head()"
   ]
  },
  {
   "cell_type": "code",
   "execution_count": 40,
   "metadata": {},
   "outputs": [
    {
     "data": {
      "text/html": [
       "<div>\n",
       "<style scoped>\n",
       "    .dataframe tbody tr th:only-of-type {\n",
       "        vertical-align: middle;\n",
       "    }\n",
       "\n",
       "    .dataframe tbody tr th {\n",
       "        vertical-align: top;\n",
       "    }\n",
       "\n",
       "    .dataframe thead th {\n",
       "        text-align: right;\n",
       "    }\n",
       "</style>\n",
       "<table border=\"1\" class=\"dataframe\">\n",
       "  <thead>\n",
       "    <tr style=\"text-align: right;\">\n",
       "      <th></th>\n",
       "      <th>age</th>\n",
       "      <th>montant</th>\n",
       "    </tr>\n",
       "  </thead>\n",
       "  <tbody>\n",
       "    <tr>\n",
       "      <th>0</th>\n",
       "      <td>18</td>\n",
       "      <td>675.945034</td>\n",
       "    </tr>\n",
       "    <tr>\n",
       "      <th>1</th>\n",
       "      <td>19</td>\n",
       "      <td>610.078552</td>\n",
       "    </tr>\n",
       "    <tr>\n",
       "      <th>2</th>\n",
       "      <td>20</td>\n",
       "      <td>620.150000</td>\n",
       "    </tr>\n",
       "    <tr>\n",
       "      <th>3</th>\n",
       "      <td>21</td>\n",
       "      <td>679.051840</td>\n",
       "    </tr>\n",
       "    <tr>\n",
       "      <th>4</th>\n",
       "      <td>22</td>\n",
       "      <td>589.056250</td>\n",
       "    </tr>\n",
       "  </tbody>\n",
       "</table>\n",
       "</div>"
      ],
      "text/plain": [
       "   age     montant\n",
       "0   18  675.945034\n",
       "1   19  610.078552\n",
       "2   20  620.150000\n",
       "3   21  679.051840\n",
       "4   22  589.056250"
      ]
     },
     "execution_count": 40,
     "metadata": {},
     "output_type": "execute_result"
    }
   ],
   "source": [
    "# montant total des achats en fonction de l'âge des clients\n",
    "gb_age_total_achats = sous_jointure.groupby(['age', 'client_id']).sum()\n",
    "gb_age_total_achats = gb_age_total_achats.groupby('age').mean()\n",
    "gb_age_total_achats = gb_age_total_achats.drop(columns='categ')\n",
    "gb_age_total_achats = gb_age_total_achats.reset_index()\n",
    "gb_age_total_achats.columns = ['age','montant']\n",
    "gb_age_total_achats.head()"
   ]
  },
  {
   "cell_type": "code",
   "execution_count": 41,
   "metadata": {},
   "outputs": [
    {
     "data": {
      "image/png": "[encoded data removed]",
      "text/plain": [
       "<Figure size 432x288 with 1 Axes>"
      ]
     },
     "metadata": {},
     "output_type": "display_data"
    }
   ],
   "source": [
    "# Affichage du scatter plot\n",
    "plt.plot(gb_age_total_achats['age'],gb_age_total_achats[\"montant\"],'o',alpha=0.5, color='b')\n",
    "plt.savefig('scatterplot_age_montant')\n",
    "plt.show()"
   ]
  },
  {
   "cell_type": "code",
   "execution_count": 42,
   "metadata": {},
   "outputs": [
    {
     "data": {
      "text/html": [
       "<div>\n",
       "<style scoped>\n",
       "    .dataframe tbody tr th:only-of-type {\n",
       "        vertical-align: middle;\n",
       "    }\n",
       "\n",
       "    .dataframe tbody tr th {\n",
       "        vertical-align: top;\n",
       "    }\n",
       "\n",
       "    .dataframe thead th {\n",
       "        text-align: right;\n",
       "    }\n",
       "</style>\n",
       "<table border=\"1\" class=\"dataframe\">\n",
       "  <thead>\n",
       "    <tr style=\"text-align: right;\">\n",
       "      <th></th>\n",
       "      <th>montant</th>\n",
       "    </tr>\n",
       "    <tr>\n",
       "      <th>age</th>\n",
       "      <th></th>\n",
       "    </tr>\n",
       "  </thead>\n",
       "  <tbody>\n",
       "    <tr>\n",
       "      <th>18</th>\n",
       "      <td>675.945034</td>\n",
       "    </tr>\n",
       "    <tr>\n",
       "      <th>19</th>\n",
       "      <td>610.078552</td>\n",
       "    </tr>\n",
       "    <tr>\n",
       "      <th>20</th>\n",
       "      <td>620.150000</td>\n",
       "    </tr>\n",
       "    <tr>\n",
       "      <th>21</th>\n",
       "      <td>679.051840</td>\n",
       "    </tr>\n",
       "    <tr>\n",
       "      <th>22</th>\n",
       "      <td>589.056250</td>\n",
       "    </tr>\n",
       "  </tbody>\n",
       "</table>\n",
       "</div>"
      ],
      "text/plain": [
       "        montant\n",
       "age            \n",
       "18   675.945034\n",
       "19   610.078552\n",
       "20   620.150000\n",
       "21   679.051840\n",
       "22   589.056250"
      ]
     },
     "execution_count": 42,
     "metadata": {},
     "output_type": "execute_result"
    }
   ],
   "source": [
    "# la colonne 'age' est transformée en index en vu de l'affichage du graphe avec les bonnes valeurs en abscisses\n",
    "gb_age_total_achats.set_index('age', inplace=True)\n",
    "gb_age_total_achats.columns = ['montant']\n",
    "gb_age_total_achats.head()"
   ]
  },
  {
   "cell_type": "code",
   "execution_count": 43,
   "metadata": {
    "scrolled": true
   },
   "outputs": [
    {
     "data": {
      "image/png": "[encoded data removed]",
      "text/plain": [
       "<Figure size 1584x432 with 1 Axes>"
      ]
     },
     "metadata": {},
     "output_type": "display_data"
    }
   ],
   "source": [
    "# Affichage du diagramme en tuyaux d'orgues\n",
    "gb_age_total_achats[\"montant\"].plot(kind='bar', figsize=(22,6), color='b')\n",
    "plt.savefig('diag_age_montant')\n",
    "plt.show()"
   ]
  },
  {
   "cell_type": "code",
   "execution_count": 44,
   "metadata": {},
   "outputs": [
    {
     "data": {
      "text/html": [
       "<div>\n",
       "<style scoped>\n",
       "    .dataframe tbody tr th:only-of-type {\n",
       "        vertical-align: middle;\n",
       "    }\n",
       "\n",
       "    .dataframe tbody tr th {\n",
       "        vertical-align: top;\n",
       "    }\n",
       "\n",
       "    .dataframe thead th {\n",
       "        text-align: right;\n",
       "    }\n",
       "</style>\n",
       "<table border=\"1\" class=\"dataframe\">\n",
       "  <thead>\n",
       "    <tr style=\"text-align: right;\">\n",
       "      <th></th>\n",
       "      <th>age</th>\n",
       "      <th>montant</th>\n",
       "    </tr>\n",
       "  </thead>\n",
       "  <tbody>\n",
       "    <tr>\n",
       "      <th>0</th>\n",
       "      <td>18</td>\n",
       "      <td>675.945034</td>\n",
       "    </tr>\n",
       "    <tr>\n",
       "      <th>1</th>\n",
       "      <td>19</td>\n",
       "      <td>610.078552</td>\n",
       "    </tr>\n",
       "    <tr>\n",
       "      <th>2</th>\n",
       "      <td>20</td>\n",
       "      <td>620.150000</td>\n",
       "    </tr>\n",
       "    <tr>\n",
       "      <th>3</th>\n",
       "      <td>21</td>\n",
       "      <td>679.051840</td>\n",
       "    </tr>\n",
       "    <tr>\n",
       "      <th>4</th>\n",
       "      <td>22</td>\n",
       "      <td>589.056250</td>\n",
       "    </tr>\n",
       "  </tbody>\n",
       "</table>\n",
       "</div>"
      ],
      "text/plain": [
       "   age     montant\n",
       "0   18  675.945034\n",
       "1   19  610.078552\n",
       "2   20  620.150000\n",
       "3   21  679.051840\n",
       "4   22  589.056250"
      ]
     },
     "execution_count": 44,
     "metadata": {},
     "output_type": "execute_result"
    }
   ],
   "source": [
    "# reset de l'index de façon à ensuite pouvoir utiliser les variables 'age' et 'montant'\n",
    "gb_age_total_achats = gb_age_total_achats.reset_index()\n",
    "gb_age_total_achats.head()"
   ]
  },
  {
   "cell_type": "code",
   "execution_count": 45,
   "metadata": {},
   "outputs": [
    {
     "data": {
      "text/plain": [
       "-0.7486658714239125"
      ]
     },
     "execution_count": 45,
     "metadata": {},
     "output_type": "execute_result"
    }
   ],
   "source": [
    "# Calcul du coefficient de Pearson\n",
    "a = st.pearsonr(gb_age_total_achats[\"age\"],gb_age_total_achats[\"montant\"])[0]\n",
    "a"
   ]
  },
  {
   "cell_type": "code",
   "execution_count": 46,
   "metadata": {},
   "outputs": [
    {
     "data": {
      "text/plain": [
       "-0.7486658714239125"
      ]
     },
     "execution_count": 46,
     "metadata": {},
     "output_type": "execute_result"
    }
   ],
   "source": [
    "# résultat identique avec une fonction d'équation\n",
    "gb_age_total_achats['age'].corr(gb_age_total_achats[\"montant\"])"
   ]
  },
  {
   "cell_type": "code",
   "execution_count": 47,
   "metadata": {},
   "outputs": [
    {
     "data": {
      "text/plain": [
       "0.5605005870349263"
      ]
     },
     "execution_count": 47,
     "metadata": {},
     "output_type": "execute_result"
    }
   ],
   "source": [
    "# Calcul du coefficient de détermination noté R2\n",
    "R2 = a*a\n",
    "R2"
   ]
  },
  {
   "cell_type": "code",
   "execution_count": 48,
   "metadata": {},
   "outputs": [],
   "source": [
    "# au regard du résultat il y a une corrélation linéaire et statistique mais il faudrait aller plus loin pour voir si il\n",
    "# y a un lien de cause à effet dans la réalité, alors cette corrélation serait concrète \n",
    "\n",
    "# Résultats à nuancer :\n",
    "\n",
    "# D'une part, en cas de corrélation linéaire et statistique, il n'y a pas forcément de lien de cause à effet dans la \n",
    "# réalité\n",
    "# D'une part, le coefficient de Pearson ne détecte les relations que lorsqu'elles sont linéaires, c'est-à-dire lorsque \n",
    "# les points sont plutôt bien alignés sur une ligne droite, nous pouvons donc avoir une forte corrélation dans la \n",
    "# réalité sans pour autant avoir un coefficient de Pearson très élevé"
   ]
  },
  {
   "cell_type": "markdown",
   "metadata": {},
   "source": [
    "# Recherche de corrélation on non entre l'âge des clients et la fréquence d'achat (ie. nombre d'achats par mois par exemple)"
   ]
  },
  {
   "cell_type": "code",
   "execution_count": 49,
   "metadata": {},
   "outputs": [
    {
     "data": {
      "text/plain": [
       "age  dates_simplifiees  client_id  id_prod\n",
       "18   2021-03            c_1046     1_540      1\n",
       "                        c_1065     1_677      1\n",
       "                                   2_104      1\n",
       "                                   2_135      1\n",
       "                        c_1094     2_35       1\n",
       "dtype: int64"
      ]
     },
     "execution_count": 49,
     "metadata": {},
     "output_type": "execute_result"
    }
   ],
   "source": [
    "# .head() sur le groupby pour bien en visualiser le fonctionnement\n",
    "test = sous_jointure.groupby(['age', 'dates_simplifiees', 'client_id', 'id_prod']).size()\n",
    "test.head()"
   ]
  },
  {
   "cell_type": "code",
   "execution_count": 50,
   "metadata": {},
   "outputs": [
    {
     "data": {
      "text/html": [
       "<div>\n",
       "<style scoped>\n",
       "    .dataframe tbody tr th:only-of-type {\n",
       "        vertical-align: middle;\n",
       "    }\n",
       "\n",
       "    .dataframe tbody tr th {\n",
       "        vertical-align: top;\n",
       "    }\n",
       "\n",
       "    .dataframe thead th {\n",
       "        text-align: right;\n",
       "    }\n",
       "</style>\n",
       "<table border=\"1\" class=\"dataframe\">\n",
       "  <thead>\n",
       "    <tr style=\"text-align: right;\">\n",
       "      <th></th>\n",
       "      <th>age</th>\n",
       "      <th>nb_achats_mois</th>\n",
       "    </tr>\n",
       "  </thead>\n",
       "  <tbody>\n",
       "    <tr>\n",
       "      <th>0</th>\n",
       "      <td>18</td>\n",
       "      <td>612.333333</td>\n",
       "    </tr>\n",
       "    <tr>\n",
       "      <th>1</th>\n",
       "      <td>19</td>\n",
       "      <td>181.833333</td>\n",
       "    </tr>\n",
       "    <tr>\n",
       "      <th>2</th>\n",
       "      <td>20</td>\n",
       "      <td>185.333333</td>\n",
       "    </tr>\n",
       "    <tr>\n",
       "      <th>3</th>\n",
       "      <td>21</td>\n",
       "      <td>169.333333</td>\n",
       "    </tr>\n",
       "    <tr>\n",
       "      <th>4</th>\n",
       "      <td>22</td>\n",
       "      <td>181.250000</td>\n",
       "    </tr>\n",
       "  </tbody>\n",
       "</table>\n",
       "</div>"
      ],
      "text/plain": [
       "   age  nb_achats_mois\n",
       "0   18      612.333333\n",
       "1   19      181.833333\n",
       "2   20      185.333333\n",
       "3   21      169.333333\n",
       "4   22      181.250000"
      ]
     },
     "execution_count": 50,
     "metadata": {},
     "output_type": "execute_result"
    }
   ],
   "source": [
    "gb_frequence_achat = sous_jointure.groupby(['age', 'dates_simplifiees']).size()\n",
    "gb_frequence_achat = gb_frequence_achat.groupby('age').mean()\n",
    "gb_frequence_achat = gb_frequence_achat.reset_index()\n",
    "gb_frequence_achat.columns = ['age','nb_achats_mois']\n",
    "gb_frequence_achat.head()"
   ]
  },
  {
   "cell_type": "code",
   "execution_count": 51,
   "metadata": {},
   "outputs": [
    {
     "data": {
      "text/html": [
       "<div>\n",
       "<style scoped>\n",
       "    .dataframe tbody tr th:only-of-type {\n",
       "        vertical-align: middle;\n",
       "    }\n",
       "\n",
       "    .dataframe tbody tr th {\n",
       "        vertical-align: top;\n",
       "    }\n",
       "\n",
       "    .dataframe thead th {\n",
       "        text-align: right;\n",
       "    }\n",
       "</style>\n",
       "<table border=\"1\" class=\"dataframe\">\n",
       "  <thead>\n",
       "    <tr style=\"text-align: right;\">\n",
       "      <th></th>\n",
       "      <th>nb_achats_mois</th>\n",
       "    </tr>\n",
       "    <tr>\n",
       "      <th>age</th>\n",
       "      <th></th>\n",
       "    </tr>\n",
       "  </thead>\n",
       "  <tbody>\n",
       "    <tr>\n",
       "      <th>18</th>\n",
       "      <td>612.333333</td>\n",
       "    </tr>\n",
       "    <tr>\n",
       "      <th>19</th>\n",
       "      <td>181.833333</td>\n",
       "    </tr>\n",
       "    <tr>\n",
       "      <th>20</th>\n",
       "      <td>185.333333</td>\n",
       "    </tr>\n",
       "    <tr>\n",
       "      <th>21</th>\n",
       "      <td>169.333333</td>\n",
       "    </tr>\n",
       "    <tr>\n",
       "      <th>22</th>\n",
       "      <td>181.250000</td>\n",
       "    </tr>\n",
       "  </tbody>\n",
       "</table>\n",
       "</div>"
      ],
      "text/plain": [
       "     nb_achats_mois\n",
       "age                \n",
       "18       612.333333\n",
       "19       181.833333\n",
       "20       185.333333\n",
       "21       169.333333\n",
       "22       181.250000"
      ]
     },
     "execution_count": 51,
     "metadata": {},
     "output_type": "execute_result"
    }
   ],
   "source": [
    "# la colonne 'age' est transformée en index en vu de l'affichage du graphe avec les bonnes valeurs en abscisses\n",
    "gb_frequence_achat.set_index('age', inplace=True)\n",
    "gb_frequence_achat.head()"
   ]
  },
  {
   "cell_type": "code",
   "execution_count": 52,
   "metadata": {
    "scrolled": true
   },
   "outputs": [
    {
     "data": {
      "image/png": "[encoded data removed]",
      "text/plain": [
       "<Figure size 1584x432 with 1 Axes>"
      ]
     },
     "metadata": {},
     "output_type": "display_data"
    }
   ],
   "source": [
    "# Affichage du diagramme en tuyaux d'orgues\n",
    "gb_frequence_achat[\"nb_achats_mois\"].plot(kind='bar', figsize=(22,6), x='birth', y='A', color='b')\n",
    "plt.xlabel(\"âge\", fontsize=16)\n",
    "plt.ylabel(\"nb_achats_mois\", fontsize=16)\n",
    "plt.suptitle(\"Nombre d achats par mois en fonction de l'année de naissance\", fontsize=16)\n",
    "plt.savefig('diag_age_freq')\n",
    "plt.show()"
   ]
  },
  {
   "cell_type": "code",
   "execution_count": 53,
   "metadata": {},
   "outputs": [
    {
     "data": {
      "text/html": [
       "<div>\n",
       "<style scoped>\n",
       "    .dataframe tbody tr th:only-of-type {\n",
       "        vertical-align: middle;\n",
       "    }\n",
       "\n",
       "    .dataframe tbody tr th {\n",
       "        vertical-align: top;\n",
       "    }\n",
       "\n",
       "    .dataframe thead th {\n",
       "        text-align: right;\n",
       "    }\n",
       "</style>\n",
       "<table border=\"1\" class=\"dataframe\">\n",
       "  <thead>\n",
       "    <tr style=\"text-align: right;\">\n",
       "      <th></th>\n",
       "      <th>age</th>\n",
       "      <th>nb_achats_mois</th>\n",
       "    </tr>\n",
       "  </thead>\n",
       "  <tbody>\n",
       "    <tr>\n",
       "      <th>0</th>\n",
       "      <td>18</td>\n",
       "      <td>612.333333</td>\n",
       "    </tr>\n",
       "    <tr>\n",
       "      <th>1</th>\n",
       "      <td>19</td>\n",
       "      <td>181.833333</td>\n",
       "    </tr>\n",
       "    <tr>\n",
       "      <th>2</th>\n",
       "      <td>20</td>\n",
       "      <td>185.333333</td>\n",
       "    </tr>\n",
       "    <tr>\n",
       "      <th>3</th>\n",
       "      <td>21</td>\n",
       "      <td>169.333333</td>\n",
       "    </tr>\n",
       "    <tr>\n",
       "      <th>4</th>\n",
       "      <td>22</td>\n",
       "      <td>181.250000</td>\n",
       "    </tr>\n",
       "  </tbody>\n",
       "</table>\n",
       "</div>"
      ],
      "text/plain": [
       "   age  nb_achats_mois\n",
       "0   18      612.333333\n",
       "1   19      181.833333\n",
       "2   20      185.333333\n",
       "3   21      169.333333\n",
       "4   22      181.250000"
      ]
     },
     "execution_count": 53,
     "metadata": {},
     "output_type": "execute_result"
    }
   ],
   "source": [
    "# reset de l'index de façon à ensuite pouvoir utiliser les variables 'age' et 'nb_achats_mois'\n",
    "gb_frequence_achat = gb_frequence_achat.reset_index()\n",
    "gb_frequence_achat.head()"
   ]
  },
  {
   "cell_type": "code",
   "execution_count": 54,
   "metadata": {},
   "outputs": [
    {
     "data": {
      "image/png": "[encoded data removed]",
      "text/plain": [
       "<Figure size 432x288 with 1 Axes>"
      ]
     },
     "metadata": {},
     "output_type": "display_data"
    }
   ],
   "source": [
    "# Affichage du scatter plot\n",
    "plt.plot(gb_frequence_achat['age'],gb_frequence_achat[\"nb_achats_mois\"],'o',alpha=0.5, color='b')\n",
    "plt.savefig('scatterplot_age_freq')\n",
    "plt.show()"
   ]
  },
  {
   "cell_type": "code",
   "execution_count": 55,
   "metadata": {},
   "outputs": [
    {
     "data": {
      "text/plain": [
       "-0.5703584540583574"
      ]
     },
     "execution_count": 55,
     "metadata": {},
     "output_type": "execute_result"
    }
   ],
   "source": [
    "# Calcul du coefficient de Pearson\n",
    "a = st.pearsonr(gb_frequence_achat[\"age\"],gb_frequence_achat[\"nb_achats_mois\"])[0]\n",
    "a"
   ]
  },
  {
   "cell_type": "code",
   "execution_count": 56,
   "metadata": {},
   "outputs": [
    {
     "data": {
      "text/plain": [
       "-0.5703584540583574"
      ]
     },
     "execution_count": 56,
     "metadata": {},
     "output_type": "execute_result"
    }
   ],
   "source": [
    "# résultat identique avec une fonction d'équation\n",
    "gb_frequence_achat['age'].corr(gb_frequence_achat[\"nb_achats_mois\"])"
   ]
  },
  {
   "cell_type": "code",
   "execution_count": 57,
   "metadata": {},
   "outputs": [
    {
     "data": {
      "text/plain": [
       "0.32530876611583937"
      ]
     },
     "execution_count": 57,
     "metadata": {},
     "output_type": "execute_result"
    }
   ],
   "source": [
    "# Calcul du coefficient de détermination noté R2\n",
    "R2 = a*a\n",
    "R2"
   ]
  },
  {
   "cell_type": "code",
   "execution_count": 58,
   "metadata": {},
   "outputs": [],
   "source": [
    "# au regard du résultat il y a une corrélation linéaire et statistique mais il faudrait aller plus loin pour voir si il\n",
    "# y a un lien de cause à effet dans la réalité, alors cette corrélation serait concrète \n",
    "\n",
    "# Résultats à nuancer :\n",
    "\n",
    "# D'une part, en cas de corrélation linéaire et statistique, il n'y a pas forcément de lien de cause à effet dans la \n",
    "# réalité\n",
    "# D'une part, le coefficient de Pearson ne détecte les relations que lorsqu'elles sont linéaires, c'est-à-dire lorsque \n",
    "# les points sont plutôt bien alignés sur une ligne droite, nous pouvons donc avoir une forte corrélation dans la \n",
    "# réalité sans pour autant avoir un coefficient de Pearson très élevé"
   ]
  },
  {
   "cell_type": "markdown",
   "metadata": {},
   "source": [
    "# Recherche de corrélation on non entre l'âge des clients et la taille du panier moyen (en nombre d'articles)"
   ]
  },
  {
   "cell_type": "code",
   "execution_count": 59,
   "metadata": {},
   "outputs": [
    {
     "data": {
      "text/html": [
       "<div>\n",
       "<style scoped>\n",
       "    .dataframe tbody tr th:only-of-type {\n",
       "        vertical-align: middle;\n",
       "    }\n",
       "\n",
       "    .dataframe tbody tr th {\n",
       "        vertical-align: top;\n",
       "    }\n",
       "\n",
       "    .dataframe thead th {\n",
       "        text-align: right;\n",
       "    }\n",
       "</style>\n",
       "<table border=\"1\" class=\"dataframe\">\n",
       "  <thead>\n",
       "    <tr style=\"text-align: right;\">\n",
       "      <th></th>\n",
       "      <th>age</th>\n",
       "      <th>nb_articles</th>\n",
       "    </tr>\n",
       "  </thead>\n",
       "  <tbody>\n",
       "    <tr>\n",
       "      <th>0</th>\n",
       "      <td>18</td>\n",
       "      <td>1.757054</td>\n",
       "    </tr>\n",
       "    <tr>\n",
       "      <th>1</th>\n",
       "      <td>19</td>\n",
       "      <td>1.724901</td>\n",
       "    </tr>\n",
       "    <tr>\n",
       "      <th>2</th>\n",
       "      <td>20</td>\n",
       "      <td>1.742947</td>\n",
       "    </tr>\n",
       "    <tr>\n",
       "      <th>3</th>\n",
       "      <td>21</td>\n",
       "      <td>1.732310</td>\n",
       "    </tr>\n",
       "    <tr>\n",
       "      <th>4</th>\n",
       "      <td>22</td>\n",
       "      <td>1.843220</td>\n",
       "    </tr>\n",
       "  </tbody>\n",
       "</table>\n",
       "</div>"
      ],
      "text/plain": [
       "   age  nb_articles\n",
       "0   18     1.757054\n",
       "1   19     1.724901\n",
       "2   20     1.742947\n",
       "3   21     1.732310\n",
       "4   22     1.843220"
      ]
     },
     "execution_count": 59,
     "metadata": {},
     "output_type": "execute_result"
    }
   ],
   "source": [
    "# taille du panier moyen en fonction de l'âge des clients\n",
    "gb_panier_moyen = sous_jointure.groupby(['age', 'session_id']).size()\n",
    "gb_panier_moyen = gb_panier_moyen.groupby('age').mean()\n",
    "gb_panier_moyen = gb_panier_moyen.reset_index()\n",
    "gb_panier_moyen.columns = ['age','nb_articles']\n",
    "gb_panier_moyen.head()"
   ]
  },
  {
   "cell_type": "code",
   "execution_count": 60,
   "metadata": {},
   "outputs": [
    {
     "data": {
      "text/html": [
       "<div>\n",
       "<style scoped>\n",
       "    .dataframe tbody tr th:only-of-type {\n",
       "        vertical-align: middle;\n",
       "    }\n",
       "\n",
       "    .dataframe tbody tr th {\n",
       "        vertical-align: top;\n",
       "    }\n",
       "\n",
       "    .dataframe thead th {\n",
       "        text-align: right;\n",
       "    }\n",
       "</style>\n",
       "<table border=\"1\" class=\"dataframe\">\n",
       "  <thead>\n",
       "    <tr style=\"text-align: right;\">\n",
       "      <th></th>\n",
       "      <th>nb_articles</th>\n",
       "    </tr>\n",
       "    <tr>\n",
       "      <th>age</th>\n",
       "      <th></th>\n",
       "    </tr>\n",
       "  </thead>\n",
       "  <tbody>\n",
       "    <tr>\n",
       "      <th>18</th>\n",
       "      <td>1.757054</td>\n",
       "    </tr>\n",
       "    <tr>\n",
       "      <th>19</th>\n",
       "      <td>1.724901</td>\n",
       "    </tr>\n",
       "    <tr>\n",
       "      <th>20</th>\n",
       "      <td>1.742947</td>\n",
       "    </tr>\n",
       "    <tr>\n",
       "      <th>21</th>\n",
       "      <td>1.732310</td>\n",
       "    </tr>\n",
       "    <tr>\n",
       "      <th>22</th>\n",
       "      <td>1.843220</td>\n",
       "    </tr>\n",
       "  </tbody>\n",
       "</table>\n",
       "</div>"
      ],
      "text/plain": [
       "     nb_articles\n",
       "age             \n",
       "18      1.757054\n",
       "19      1.724901\n",
       "20      1.742947\n",
       "21      1.732310\n",
       "22      1.843220"
      ]
     },
     "execution_count": 60,
     "metadata": {},
     "output_type": "execute_result"
    }
   ],
   "source": [
    "# la colonne 'age' est transformée en index en vu de l'affichage du graphe avec les bonnes valeurs en abscisses\n",
    "gb_panier_moyen.set_index('age', inplace=True)\n",
    "gb_panier_moyen.head()"
   ]
  },
  {
   "cell_type": "code",
   "execution_count": 61,
   "metadata": {},
   "outputs": [
    {
     "data": {
      "image/png": "[encoded data removed]",
      "text/plain": [
       "<Figure size 1584x432 with 1 Axes>"
      ]
     },
     "metadata": {},
     "output_type": "display_data"
    }
   ],
   "source": [
    "# Affichage du diagramme en tuyaux d'orgues\n",
    "gb_panier_moyen[\"nb_articles\"].plot(kind='bar', figsize=(22,6), color='b')\n",
    "plt.xlabel(\"âge\", fontsize=16)\n",
    "plt.ylabel(\"nb_articles\", fontsize=16)\n",
    "plt.suptitle(\"Taille du panier moyen en fonction de l'âge\", fontsize=16)\n",
    "plt.savefig('diag_age_panier')\n",
    "plt.show()"
   ]
  },
  {
   "cell_type": "code",
   "execution_count": 62,
   "metadata": {},
   "outputs": [
    {
     "data": {
      "text/html": [
       "<div>\n",
       "<style scoped>\n",
       "    .dataframe tbody tr th:only-of-type {\n",
       "        vertical-align: middle;\n",
       "    }\n",
       "\n",
       "    .dataframe tbody tr th {\n",
       "        vertical-align: top;\n",
       "    }\n",
       "\n",
       "    .dataframe thead th {\n",
       "        text-align: right;\n",
       "    }\n",
       "</style>\n",
       "<table border=\"1\" class=\"dataframe\">\n",
       "  <thead>\n",
       "    <tr style=\"text-align: right;\">\n",
       "      <th></th>\n",
       "      <th>age</th>\n",
       "      <th>nb_articles</th>\n",
       "    </tr>\n",
       "  </thead>\n",
       "  <tbody>\n",
       "    <tr>\n",
       "      <th>0</th>\n",
       "      <td>18</td>\n",
       "      <td>1.757054</td>\n",
       "    </tr>\n",
       "    <tr>\n",
       "      <th>1</th>\n",
       "      <td>19</td>\n",
       "      <td>1.724901</td>\n",
       "    </tr>\n",
       "    <tr>\n",
       "      <th>2</th>\n",
       "      <td>20</td>\n",
       "      <td>1.742947</td>\n",
       "    </tr>\n",
       "    <tr>\n",
       "      <th>3</th>\n",
       "      <td>21</td>\n",
       "      <td>1.732310</td>\n",
       "    </tr>\n",
       "    <tr>\n",
       "      <th>4</th>\n",
       "      <td>22</td>\n",
       "      <td>1.843220</td>\n",
       "    </tr>\n",
       "  </tbody>\n",
       "</table>\n",
       "</div>"
      ],
      "text/plain": [
       "   age  nb_articles\n",
       "0   18     1.757054\n",
       "1   19     1.724901\n",
       "2   20     1.742947\n",
       "3   21     1.732310\n",
       "4   22     1.843220"
      ]
     },
     "execution_count": 62,
     "metadata": {},
     "output_type": "execute_result"
    }
   ],
   "source": [
    "# reset de l'index de façon à ensuite pouvoir utiliser les variables 'age' et 'nb_articles'\n",
    "gb_panier_moyen = gb_panier_moyen.reset_index()\n",
    "gb_panier_moyen.head()"
   ]
  },
  {
   "cell_type": "code",
   "execution_count": 63,
   "metadata": {},
   "outputs": [
    {
     "data": {
      "image/png": "[encoded data removed]",
      "text/plain": [
       "<Figure size 432x288 with 1 Axes>"
      ]
     },
     "metadata": {},
     "output_type": "display_data"
    }
   ],
   "source": [
    "# Affichage du scatter plot\n",
    "plt.plot(gb_panier_moyen['age'],gb_panier_moyen[\"nb_articles\"],'o',alpha=0.5, color='b')\n",
    "plt.savefig('scatterplot_age_panier')\n",
    "plt.show()"
   ]
  },
  {
   "cell_type": "code",
   "execution_count": 64,
   "metadata": {},
   "outputs": [
    {
     "data": {
      "text/plain": [
       "-0.5946358543171337"
      ]
     },
     "execution_count": 64,
     "metadata": {},
     "output_type": "execute_result"
    }
   ],
   "source": [
    "# Calcul du coefficient de Pearson\n",
    "a = st.pearsonr(gb_panier_moyen[\"age\"],gb_panier_moyen[\"nb_articles\"])[0]\n",
    "a"
   ]
  },
  {
   "cell_type": "code",
   "execution_count": 65,
   "metadata": {},
   "outputs": [
    {
     "data": {
      "text/plain": [
       "-0.5946358543171337"
      ]
     },
     "execution_count": 65,
     "metadata": {},
     "output_type": "execute_result"
    }
   ],
   "source": [
    "# résultat identique avec une fonction d'équation\n",
    "gb_panier_moyen[\"age\"].corr(gb_panier_moyen[\"nb_articles\"])"
   ]
  },
  {
   "cell_type": "code",
   "execution_count": 66,
   "metadata": {},
   "outputs": [
    {
     "data": {
      "text/plain": [
       "0.3535917992394675"
      ]
     },
     "execution_count": 66,
     "metadata": {},
     "output_type": "execute_result"
    }
   ],
   "source": [
    "# Calcul du coefficient de détermination noté R2\n",
    "R2 = a*a\n",
    "R2"
   ]
  },
  {
   "cell_type": "code",
   "execution_count": 67,
   "metadata": {},
   "outputs": [],
   "source": [
    "# au regard du résultat il y a une corrélation linéaire et statistique mais il faudrait aller plus loin pour voir si il\n",
    "# y a un lien de cause à effet dans la réalité, alors cette corrélation serait concrète \n",
    "\n",
    "# Résultats à nuancer :\n",
    "\n",
    "# D'une part, en cas de corrélation linéaire et statistique, il n'y a pas forcément de lien de cause à effet dans la \n",
    "# réalité\n",
    "# D'une part, le coefficient de Pearson ne détecte les relations que lorsqu'elles sont linéaires, c'est-à-dire lorsque \n",
    "# les points sont plutôt bien alignés sur une ligne droite, nous pouvons donc avoir une forte corrélation dans la \n",
    "# réalité sans pour autant avoir un coefficient de Pearson très élevé"
   ]
  },
  {
   "cell_type": "markdown",
   "metadata": {},
   "source": [
    "# Recherche de corrélation on non entre l'âge des clients et les catégories de produits achetés"
   ]
  },
  {
   "cell_type": "code",
   "execution_count": 68,
   "metadata": {
    "scrolled": true
   },
   "outputs": [
    {
     "data": {
      "image/png": "[encoded data removed]",
      "text/plain": [
       "<Figure size 1152x576 with 1 Axes>"
      ]
     },
     "metadata": {},
     "output_type": "display_data"
    }
   ],
   "source": [
    "# nous allons afficher les boxplots prenant en variables :\n",
    "#    - qualitative : 'categ'\n",
    "#    - quantitative : 'age'\n",
    "sous_jointure.boxplot(column='age', by='categ', vert=False, figsize=(16,8))\n",
    "plt.xlabel(\"age\", fontsize=16)  \n",
    "plt.ylabel(\"categ\", fontsize=16)\n",
    "plt.suptitle(\"Boxplots des variables 'age' et 'categ'\", fontsize=16)\n",
    "plt.savefig('boxplot_categ_birth')\n",
    "plt.show()"
   ]
  },
  {
   "cell_type": "code",
   "execution_count": 69,
   "metadata": {},
   "outputs": [
    {
     "data": {
      "text/plain": [
       "0.26672176625399563"
      ]
     },
     "execution_count": 69,
     "metadata": {},
     "output_type": "execute_result"
    }
   ],
   "source": [
    "# Calcul de η2 entre les variables 'birth' et 'categ' \n",
    "X = \"age\" # quantitative\n",
    "Y = \"categ\" # qualitative\n",
    "\n",
    "def eta_squared(x,y):\n",
    "    moyenne_y = y.mean()\n",
    "    classes = []\n",
    "    for classe in x.unique():\n",
    "        yi_classe = y[x==classe]\n",
    "        classes.append({'ni': len(yi_classe),\n",
    "                        'moyenne_classe': yi_classe.mean()})\n",
    "    SCT = sum([(yj-moyenne_y)**2 for yj in y])\n",
    "    SCE = sum([c['ni']*(c['moyenne_classe']-moyenne_y)**2 for c in classes])\n",
    "    return SCE/SCT\n",
    "    \n",
    "eta_squared(sous_jointure[X],sous_jointure[Y])"
   ]
  },
  {
   "cell_type": "code",
   "execution_count": 70,
   "metadata": {},
   "outputs": [],
   "source": [
    "# Nous obtenons un résultat proche de 0.27\n",
    "# Pour l’eta-squared, nous n'avons pas de valeur étalon pour affirmer si il y a corrélation ou pas entre l'âge des \n",
    "# clients et la catégorie des produits achetée \n",
    "# En revanche, visuellement, nous avons pu oberser une corrélation sur le graphique représentant les boxplots !\n",
    "# Mais bien entendu, tout cela reste à confirmer"
   ]
  },
  {
   "cell_type": "code",
   "execution_count": null,
   "metadata": {},
   "outputs": [],
   "source": []
  }
 ],
 "metadata": {
  "kernelspec": {
   "display_name": "Python 3",
   "language": "python",
   "name": "python3"
  },
  "language_info": {
   "codemirror_mode": {
    "name": "ipython",
    "version": 3
   },
   "file_extension": ".py",
   "mimetype": "text/x-python",
   "name": "python",
   "nbconvert_exporter": "python",
   "pygments_lexer": "ipython3",
   "version": "3.6.5"
  }
 },
 "nbformat": 4,
 "nbformat_minor": 2
}
